{
 "cells": [
  {
   "cell_type": "code",
   "execution_count": 87,
   "metadata": {},
   "outputs": [],
   "source": [
    "import os\n",
    "def processing_data_for_mongo():\n",
    "    new_dictionary={}\n",
    "    new_list =[]\n",
    "    directory =\"C:\\\\Users\\\\Anusha\\\\Desktop\\\\FLASK_test\\\\image\"\n",
    "    all_directories = os.listdir(directory)\n",
    "    for item in all_directories:\n",
    "        new_directories =\"C:\\\\Users\\\\Anusha\\\\Desktop\\\\FLASK_test\\\\image\\\\{}\".format(item)\n",
    "        image_files = os.listdir(new_directories)\n",
    "        new_dictionary.setdefault('images', [])\n",
    "        new_dictionary.setdefault('Batch', [])\n",
    "        new_dictionary['images'].append(image_files)\n",
    "        new_dictionary['Batch'].append(item)\n",
    "    return new_dictionary"
   ]
  },
  {
   "cell_type": "code",
   "execution_count": 88,
   "metadata": {},
   "outputs": [],
   "source": [
    "data =processing_data_for_mongo()"
   ]
  },
  {
   "cell_type": "code",
   "execution_count": 89,
   "metadata": {},
   "outputs": [
    {
     "data": {
      "text/plain": [
       "{'images': [['dayone_113.jpg', 'dayone_114.jpg', 'dayone_116.jpg'],\n",
       "  ['dayone_113.jpg', 'dayone_114.jpg']],\n",
       " 'Batch': ['test', 'test2']}"
      ]
     },
     "execution_count": 89,
     "metadata": {},
     "output_type": "execute_result"
    }
   ],
   "source": [
    "data "
   ]
  },
  {
   "cell_type": "code",
   "execution_count": 90,
   "metadata": {},
   "outputs": [],
   "source": [
    "import os\n",
    "def json_data_to_mongo(func):\n",
    "    list_of_data = []\n",
    "    dicti =func()\n",
    "    i=0\n",
    "    for i in range(len(dicti)):\n",
    "        images = dicti['images'][i]\n",
    "        Batch = dicti['Batch'][i]\n",
    "        now = datetime.now()\n",
    "        current_time = now.strftime(\"%H:%M:%S\")\n",
    "        data = {\"Batch_id\":Batch,\"Image\":images,\"Status\":\"Pending\",\"created_time\":current_time}\n",
    "        list_of_data.append(data)\n",
    "    return list_of_data"
   ]
  },
  {
   "cell_type": "code",
   "execution_count": 91,
   "metadata": {},
   "outputs": [],
   "source": [
    "data_to = json_data_to_mongo(processing_data_for_mongo)"
   ]
  },
  {
   "cell_type": "code",
   "execution_count": 95,
   "metadata": {},
   "outputs": [
    {
     "name": "stdout",
     "output_type": "stream",
     "text": [
      "test ['dayone_113.jpg', 'dayone_114.jpg', 'dayone_116.jpg']\n",
      "test2 ['dayone_113.jpg', 'dayone_114.jpg']\n"
     ]
    }
   ],
   "source": [
    "for item in data_to:\n",
    "    print(item['Batch_id'],item['Image'])"
   ]
  },
  {
   "cell_type": "code",
   "execution_count": 93,
   "metadata": {},
   "outputs": [
    {
     "name": "stdout",
     "output_type": "stream",
     "text": [
      "Image : ['dayone_113.jpg', 'dayone_114.jpg', 'dayone_116.jpg'] ; Batch_id : test\n",
      "Status : Pending ; Image : ['dayone_113.jpg', 'dayone_114.jpg', 'dayone_116.jpg']\n",
      "created_time : 01:38:41 ; Status : Pending\n"
     ]
    }
   ],
   "source": [
    "from collections import OrderedDict\n",
    "from itertools import tee\n",
    "\n",
    "my_dict = OrderedDict([\n",
    "    ('LAP0-1', 146.48),\n",
    "    ('LAP1-1', 44.11),\n",
    "    ('LAP2-1', 25.54),\n",
    "    ('LAP3-1', 75.29),\n",
    "    ('LAP5-2', 85.76),\n",
    "    ('LAP6-2', 46.87)\n",
    "])\n",
    "\n",
    "# pairwise() from Itertools Recipes\n",
    "def pairwise(iterable):\n",
    "    \"s -> (s0,s1), (s1,s2), (s2, s3), ...\"\n",
    "    a, b = tee(iterable)\n",
    "    next(a, None)\n",
    "    return zip(a, b)\n",
    "\n",
    "for (key1, value1), (key2, value2) in pairwise(data_to[0].items()):\n",
    "    print(\"{} : {} ; {} : {}\".format(key1, value1, key2, value2))"
   ]
  },
  {
   "cell_type": "code",
   "execution_count": 44,
   "metadata": {},
   "outputs": [],
   "source": [
    "mykeys =['Batch_id','Image']\n",
    "for item in data_to:\n",
    "    all_data=[item[x] for x in mykeys]"
   ]
  },
  {
   "cell_type": "code",
   "execution_count": 80,
   "metadata": {},
   "outputs": [],
   "source": [
    "def getting_the_batch():\n",
    "    appended_keys =[]\n",
    "    i =0\n",
    "    while i< len(data_to):\n",
    "        appended_keys.append([item[x] for x in mykeys])\n",
    "        i+=1\n",
    "\n",
    "    return all_data\n",
    "        "
   ]
  },
  {
   "cell_type": "code",
   "execution_count": 81,
   "metadata": {},
   "outputs": [],
   "source": [
    "all_data_me = getting_the_batch()"
   ]
  },
  {
   "cell_type": "code",
   "execution_count": 82,
   "metadata": {},
   "outputs": [
    {
     "data": {
      "text/plain": [
       "[{'images': [['dayone_113.jpg', 'dayone_114.jpg', 'dayone_116.jpg'],\n",
       "   ['dayone_113.jpg', 'dayone_114.jpg']],\n",
       "  'Batch': ['test', 'test2']},\n",
       " {'images': [['dayone_113.jpg', 'dayone_114.jpg', 'dayone_116.jpg'],\n",
       "   ['dayone_113.jpg', 'dayone_114.jpg']],\n",
       "  'Batch': ['test', 'test2']}]"
      ]
     },
     "execution_count": 82,
     "metadata": {},
     "output_type": "execute_result"
    }
   ],
   "source": [
    "all_data_me"
   ]
  },
  {
   "cell_type": "code",
   "execution_count": 46,
   "metadata": {},
   "outputs": [
    {
     "data": {
      "text/plain": [
       "['test2', ['dayone_113.jpg', 'dayone_114.jpg']]"
      ]
     },
     "execution_count": 46,
     "metadata": {},
     "output_type": "execute_result"
    }
   ],
   "source": [
    "all_data"
   ]
  },
  {
   "cell_type": "code",
   "execution_count": 45,
   "metadata": {},
   "outputs": [],
   "source": [
    "# import pymongo\n",
    "# import schedule\n",
    "# import time\n",
    "# from datetime import datetime\n",
    "# from pymongo import Mongoclient\n",
    "# client = Mongoclient(\"localhost\",54321)\n",
    "# print(client)\n",
    "# db =client.clients\n",
    "# db.clients.count()\n",
    "# clients =db.clients\n",
    "# clients.find()\n",
    "\n",
    "\n",
    "def processing_data_for_mongo():\n",
    "    new_dictionary={}\n",
    "    new_list =[]\n",
    "    directory =\"C:\\\\Users\\\\Anusha\\\\Desktop\\\\FLASK_test\\\\images\"\n",
    "    all_directories = os.listdir(directory)\n",
    "    for item in all_directories:\n",
    "        new_directories =\"C:\\\\Users\\\\Anusha\\\\Desktop\\\\FLASK_test\\\\{}\".format(item)\n",
    "        image_files = os.listdir(new_directories)\n",
    "        new_dictionary.setdefault('images', [])\n",
    "        new_dictionary.setdefault('Batch', [])\n",
    "        new_dictionary['images'].append(image_files)\n",
    "        new_dictionary['Batch'].append(item)\n",
    "    return new_dictionary\n",
    "\n",
    "\n",
    "\n",
    "# def json_data_to_mongo(func):\n",
    "#     dictionary =func()\n",
    "#     i=0\n",
    "#     for i in range(len(dictinary)):\n",
    "#         images =dictinary['images'][i] \n",
    "#         Batch =dictinary['Batch'][i]\n",
    "#         now = datetime.now()\n",
    "#         current_time = now.strftime(\"%H:%M:%S\")\n",
    "        \n",
    "#         clients =db.clients.insert({\"Batch_id\":Batch,\"Image\":images,\"Status\":\"Pending\",\"created_time\":current_time})\n",
    "#         clients.close()\n",
    "\n",
    "# schedule.every(20).minutes.do(processing_data_for_mongo)\n",
    "# schedule.every(21).minutes.do(json_data_to_mongo)\n",
    "# while 1:\n",
    "#     schedule.run_pending()\n",
    "#     time.sleep(1)"
   ]
  },
  {
   "cell_type": "code",
   "execution_count": 13,
   "metadata": {},
   "outputs": [
    {
     "data": {
      "text/plain": [
       "['.ipynb_checkpoints',\n",
       " 'dayone_113.jpg',\n",
       " 'dayone_114.jpg',\n",
       " 'dayone_116.jpg',\n",
       " 'each_image_result',\n",
       " 'final_mongo_transaction.ipynb',\n",
       " 'for middlelayer.ipynb',\n",
       " 'guaguhbhsguygc1232',\n",
       " 'image',\n",
       " 'little_change.ipynb',\n",
       " 'maxexp.ipynb',\n",
       " 'maxexperienceformat.ipynb',\n",
       " 'mongodbupload.ipynb',\n",
       " 'processigfacin.csv',\n",
       " 'process_scheduler.ipynb',\n",
       " 'proc_data.ipynb',\n",
       " 'purity.ipynb',\n",
       " 'raw-data-form.py',\n",
       " 'testing_code_for_upload.ipynb',\n",
       " 'Untitled.ipynb']"
      ]
     },
     "execution_count": 13,
     "metadata": {},
     "output_type": "execute_result"
    }
   ],
   "source": []
  },
  {
   "cell_type": "code",
   "execution_count": 14,
   "metadata": {},
   "outputs": [],
   "source": [
    "import os\n",
    "def json_data_to_mongo(func):\n",
    "    dicti =func()\n",
    "    i=0\n",
    "    for i in range(len(dicti)):\n",
    "        images = dicti['images'][i]\n",
    "        print(images)\n",
    "        Batch = dicti['Batch'][i]\n",
    "        now = datetime.now()\n",
    "        current_time = now.strftime(\"%H:%M:%S\")\n",
    "        return (images,Batch,now,current_time)        "
   ]
  },
  {
   "cell_type": "code",
   "execution_count": 15,
   "metadata": {},
   "outputs": [
    {
     "ename": "FileNotFoundError",
     "evalue": "[WinError 3] The system cannot find the path specified: 'C:\\\\Users\\\\Anusha\\\\Desktop\\\\FLASK_test\\\\images'",
     "output_type": "error",
     "traceback": [
      "\u001b[1;31m---------------------------------------------------------------------------\u001b[0m",
      "\u001b[1;31mFileNotFoundError\u001b[0m                         Traceback (most recent call last)",
      "\u001b[1;32m<ipython-input-15-f4f5d5f74b1a>\u001b[0m in \u001b[0;36m<module>\u001b[1;34m\u001b[0m\n\u001b[1;32m----> 1\u001b[1;33m \u001b[0mdata\u001b[0m \u001b[1;33m=\u001b[0m \u001b[0mjson_data_to_mongo\u001b[0m\u001b[1;33m(\u001b[0m\u001b[0mprocessing_data_for_mongo\u001b[0m\u001b[1;33m)\u001b[0m\u001b[1;33m\u001b[0m\u001b[1;33m\u001b[0m\u001b[0m\n\u001b[0m",
      "\u001b[1;32m<ipython-input-14-3d086777f9c3>\u001b[0m in \u001b[0;36mjson_data_to_mongo\u001b[1;34m(func)\u001b[0m\n\u001b[0;32m      1\u001b[0m \u001b[1;32mimport\u001b[0m \u001b[0mos\u001b[0m\u001b[1;33m\u001b[0m\u001b[1;33m\u001b[0m\u001b[0m\n\u001b[0;32m      2\u001b[0m \u001b[1;32mdef\u001b[0m \u001b[0mjson_data_to_mongo\u001b[0m\u001b[1;33m(\u001b[0m\u001b[0mfunc\u001b[0m\u001b[1;33m)\u001b[0m\u001b[1;33m:\u001b[0m\u001b[1;33m\u001b[0m\u001b[1;33m\u001b[0m\u001b[0m\n\u001b[1;32m----> 3\u001b[1;33m     \u001b[0mdicti\u001b[0m \u001b[1;33m=\u001b[0m\u001b[0mfunc\u001b[0m\u001b[1;33m(\u001b[0m\u001b[1;33m)\u001b[0m\u001b[1;33m\u001b[0m\u001b[1;33m\u001b[0m\u001b[0m\n\u001b[0m\u001b[0;32m      4\u001b[0m     \u001b[0mi\u001b[0m\u001b[1;33m=\u001b[0m\u001b[1;36m0\u001b[0m\u001b[1;33m\u001b[0m\u001b[1;33m\u001b[0m\u001b[0m\n\u001b[0;32m      5\u001b[0m     \u001b[1;32mfor\u001b[0m \u001b[0mi\u001b[0m \u001b[1;32min\u001b[0m \u001b[0mrange\u001b[0m\u001b[1;33m(\u001b[0m\u001b[0mlen\u001b[0m\u001b[1;33m(\u001b[0m\u001b[0mdicti\u001b[0m\u001b[1;33m)\u001b[0m\u001b[1;33m)\u001b[0m\u001b[1;33m:\u001b[0m\u001b[1;33m\u001b[0m\u001b[1;33m\u001b[0m\u001b[0m\n",
      "\u001b[1;32m<ipython-input-12-9744242f90e1>\u001b[0m in \u001b[0;36mprocessing_data_for_mongo\u001b[1;34m()\u001b[0m\n\u001b[0;32m     16\u001b[0m     \u001b[0mnew_list\u001b[0m \u001b[1;33m=\u001b[0m\u001b[1;33m[\u001b[0m\u001b[1;33m]\u001b[0m\u001b[1;33m\u001b[0m\u001b[1;33m\u001b[0m\u001b[0m\n\u001b[0;32m     17\u001b[0m     \u001b[0mdirectory\u001b[0m \u001b[1;33m=\u001b[0m\u001b[1;34m\"C:\\\\Users\\\\Anusha\\\\Desktop\\\\FLASK_test\\\\images\"\u001b[0m\u001b[1;33m\u001b[0m\u001b[1;33m\u001b[0m\u001b[0m\n\u001b[1;32m---> 18\u001b[1;33m     \u001b[0mall_directories\u001b[0m \u001b[1;33m=\u001b[0m \u001b[0mos\u001b[0m\u001b[1;33m.\u001b[0m\u001b[0mlistdir\u001b[0m\u001b[1;33m(\u001b[0m\u001b[0mdirectory\u001b[0m\u001b[1;33m)\u001b[0m\u001b[1;33m\u001b[0m\u001b[1;33m\u001b[0m\u001b[0m\n\u001b[0m\u001b[0;32m     19\u001b[0m     \u001b[1;32mfor\u001b[0m \u001b[0mitem\u001b[0m \u001b[1;32min\u001b[0m \u001b[0mall_directories\u001b[0m\u001b[1;33m:\u001b[0m\u001b[1;33m\u001b[0m\u001b[1;33m\u001b[0m\u001b[0m\n\u001b[0;32m     20\u001b[0m         \u001b[0mnew_directories\u001b[0m \u001b[1;33m=\u001b[0m\u001b[1;34m\"C:\\\\Users\\\\Anusha\\\\Desktop\\\\FLASK_test\\\\{}\"\u001b[0m\u001b[1;33m.\u001b[0m\u001b[0mformat\u001b[0m\u001b[1;33m(\u001b[0m\u001b[0mitem\u001b[0m\u001b[1;33m)\u001b[0m\u001b[1;33m\u001b[0m\u001b[1;33m\u001b[0m\u001b[0m\n",
      "\u001b[1;31mFileNotFoundError\u001b[0m: [WinError 3] The system cannot find the path specified: 'C:\\\\Users\\\\Anusha\\\\Desktop\\\\FLASK_test\\\\images'"
     ]
    }
   ],
   "source": [
    "data = json_data_to_mongo(processing_data_for_mongo)"
   ]
  },
  {
   "cell_type": "code",
   "execution_count": 31,
   "metadata": {},
   "outputs": [
    {
     "data": {
      "text/plain": [
       "(['dayone_113.jpg', 'dayone_114.jpg', 'dayone_116.jpg'],\n",
       " 'test',\n",
       " datetime.datetime(2020, 2, 26, 12, 57, 38, 52466),\n",
       " '12:57:38')"
      ]
     },
     "execution_count": 31,
     "metadata": {},
     "output_type": "execute_result"
    }
   ],
   "source": [
    "  "
   ]
  },
  {
   "cell_type": "code",
   "execution_count": 16,
   "metadata": {},
   "outputs": [],
   "source": [
    "route ={ \"_id\" : \"5e57a55d7d2d3aacd1760bc0\", \"Batch_id\" : \"Batch_for_testing\", \"image_name\" : \"cokeandfanta_20.jpg\", \"isSuccess\" : \"true\", \"message\" : \"success\", \"records\" : [ { \"clientSceneData\" : { \"area\" : \"Aisle\", \"poc\" : \"drinks\" }, \"sceneUid\" : \"146s8124-s21g-12d3-a456-223324221542\", \"facing\" : { \"brand\" : \"Fanta\", \"cname\" : \" \", \"ban\" : \" \", \"category\" : \"sprkl\", \"name\" : \"250MLPLB Fanta Org\", \"count\" : \" \", \"type\" : \"sku\", \"sku\" : \"21\" }, \"sceneType\" : \"1\"}, { \"clientSceneData\" : { \"area\" : \"Aisle\", \"poc\" : \"drinks\" }, \"sceneUid\" : \"146s8124-s21g-12d3-a456-223324221542\", \"facing\" : { \"brand\" : \"Fanta\", \"cname\" : \" \", \"ban\" : \" \", \"category\" : \"sprkl\", \"name\" : \"1.75LPLB Fanta Org\", \"count\" : \" \", \"type\" : \"sku\", \"sku\" : \"19\" }, \"sceneType\" : \"1\" }, { \"clientSceneData\" : { \"area\" : \"Aisle\", \"poc\" : \"drinks\" }, \"sceneUid\" : \"146s8124-s21g-12d3-a456-223324221542\", \"facing\" : { \"brand\" : \"Fanta\", \"cname\" : \" \", \"ban\" : \" \", \"category\" : \"sprkl\", \"name\" : \"200MLGLB Fanta Org\", \"count\" : \" \", \"type\" : \"sku\", \"sku\" : \"20\" }, \"sceneType\" :  \"1\" }, { \"clientSceneData\" : { \"area\" : \"Aisle\", \"poc\" : \"drinks\" }, \"sceneUid\" : \"146s8124-s21g-12d3-a456-223324221542\", \"facing\" : { \"brand\" : \"Kinley\", \"cname\" : \" \", \"ban\" : \" \", \"category\" : \"soda\", \"name\" : \"1.25MLPLB FANTA org\", \"count\" : \" \", \"type\" : \"sku\", \"sku\" : \"57\" }, \"sceneType\" : 1 }, { \"clientSceneData\" : { \"area\" : \"Aisle\", \"poc\" : \"drinks\" }, \"sceneUid\" : \"146s8124-s21g-12d3-a456-223324221542\", \"facing\" : { \"brand\" : \"Fanta\", \"cname\" : \" \", \"ban\" : \" \", \"category\" : \"sprkl\", \"name\" : \"2.25LPLB Fanta Org\", \"count\" : \" \", \"type\" : \"sku\", \"sku\" : \"18\" }, \"sceneType\" :  \"1\" }, { \"clientSceneData\" : { \"area\" : \"Aisle\", \"poc\" : \"drinks\" }, \"sceneUid\" : \"146s8124-s21g-12d3-a456-223324221542\", \"facing\" : { \"brand\" : \"Sprite\", \"cname\" : \" \", \"ban\" : \" \", \"category\" : \"sprkl\", \"name\" : \"750MLPLB Fanta Org\", \"count\" : \" \", \"type\" : \"sku\", \"sku\" : \"17\" }, \"sceneType\" :  \"1\" }, { \"clientSceneData\" : { \"area\" : \"Aisle\", \"poc\" : \"drinks\" }, \"sceneUid\" : \"146s8124-s21g-12d3-a456-223324221542\", \"facing\" : { \"brand\" : \"Fanta\", \"cname\" : \" \", \"ban\" : \" \", \"category\" : \"sprkl\", \"name\" : \"300MLGLB Fanta Org\", \"count\" : \" \", \"type\" : \"sku\", \"sku\" : \"22\" }, \"sceneType\" :  \"1\" } ] }\n",
    "post = { \"_id\" : \"5e57a55d7d2d3aacd1760bc1\", \"Batch_id\" : \"Batch_for_testing\", \"image_name\" : \"cokeandfanta_2005.jpg\", \"isSuccess\" : \"true\", \"message\" : \"success\", \"records\" : [ { \"clientSceneData\" : { \"area\" : \"Aisle\", \"poc\" : \"drinks\" }, \"sceneUid\" : \"146s8124-s21g-12d3-a456-223324221542\", \"facing\" : { \"brand\" : \"Fanta\", \"cname\" : \" \", \"ban\" : \" \", \"category\" : \"sprkl\", \"name\" : \"250MLPLB Fanta Org\", \"count\" : \" \", \"type\" : \"sku\", \"sku\" : \"21\" }, \"sceneType\" : \"1\" }, { \"clientSceneData\" : { \"area\" : \"Aisle\", \"poc\" : \"drinks\" }, \"sceneUid\" : \"146s8124-s21g-12d3-a456-223324221542\", \"facing\" : { \"brand\" : \"Fanta\", \"cname\" : \" \", \"ban\" : \" \", \"category\" : \"sprkl\", \"name\" : \"1.75LPLB Fanta Org\", \"count\" : \" \", \"type\" : \"sku\", \"sku\" : \"19\" }, \"sceneType\" :  \"1\" }, { \"clientSceneData\" : { \"area\" : \"Aisle\", \"poc\" : \"drinks\" }, \"sceneUid\" : \"146s8124-s21g-12d3-a456-223324221542\", \"facing\" : { \"brand\" : \"Fanta\", \"cname\" : \" \", \"ban\" : \" \", \"category\" : \"sprkl\", \"name\" : \"200MLGLB Fanta Org\", \"count\" : \" \", \"type\" : \"sku\", \"sku\" : \"20\" }, \"sceneType\" :  \"1\" }, { \"clientSceneData\" : { \"area\" : \"Aisle\", \"poc\" : \"drinks\" }, \"sceneUid\" : \"146s8124-s21g-12d3-a456-223324221542\", \"facing\" : { \"brand\" : \"Kinley\", \"cname\" : \" \", \"ban\" : \" \", \"category\" : \"soda\", \"name\" : \"1.25MLPLB FANTA org\", \"count\" : \" \", \"type\" : \"sku\", \"sku\" : \"57\" }, \"sceneType\" : 1 }, { \"clientSceneData\" : { \"area\" : \"Aisle\", \"poc\" : \"drinks\" }, \"sceneUid\" : \"146s8124-s21g-12d3-a456-223324221542\", \"facing\" : { \"brand\" : \"Fanta\", \"cname\" : \" \", \"ban\" : \" \", \"category\" : \"sprkl\", \"name\" : \"2.25LPLB Fanta Org\", \"count\" : \" \", \"type\" : \"sku\", \"sku\" : \"18\" }, \"sceneType\" :  \"1\" }, { \"clientSceneData\" : { \"area\" : \"Aisle\", \"poc\" : \"drinks\" }, \"sceneUid\" : \"146s8124-s21g-12d3-a456-223324221542\", \"facing\" : { \"brand\" : \"Sprite\", \"cname\" : \" \", \"ban\" : \" \", \"category\" : \"sprkl\", \"name\" : \"750MLPLB Fanta Org\", \"count\" : \" \", \"type\" : \"sku\", \"sku\" : \"17\" }, \"sceneType\" :  \"1\" }, { \"clientSceneData\" : { \"area\" : \"Aisle\", \"poc\" : \"drinks\" }, \"sceneUid\" : \"146s8124-s21g-12d3-a456-223324221542\", \"facing\" : { \"brand\" : \"Fanta\", \"cname\" : \" \", \"ban\" : \" \", \"category\" : \"sprkl\", \"name\" : \"300MLGLB Fanta Org\", \"count\" : \" \", \"type\" : \"sku\", \"sku\" : \"22\" }, \"sceneType\" :  \"1\" } ] }\n",
    "query= { \"_id\" : \"5e57a55e7d2d3aacd1760bc2\", \"Batch_id\" : \"Batch_for_testing\", \"image_name\" : \"cokeandfanta_500.jpg\", \"isSuccess\" : \"true\", \"message\" : \"success\", \"records\" : [ { \"clientSceneData\" : { \"area\" : \"Aisle\", \"poc\" : \"drinks\" }, \"sceneUid\" : \"146s8124-s21g-12d3-a456-223324221542\", \"facing\" : { \"brand\" : \"Fanta\", \"cname\" : \" \", \"ban\" : \" \", \"category\" : \"sprkl\", \"name\" : \"250MLPLB Fanta Org\", \"count\" : \" \", \"type\" : \"sku\", \"sku\" : \"21\" }, \"sceneType\" : \"1\"}, { \"clientSceneData\" : { \"area\" : \"Aisle\", \"poc\" : \"drinks\" }, \"sceneUid\" : \"146s8124-s21g-12d3-a456-223324221542\", \"facing\" : { \"brand\" : \"Fanta\", \"cname\" : \" \", \"ban\" : \" \", \"category\" : \"sprkl\", \"name\" : \"1.75LPLB Fanta Org\", \"count\" : \" \", \"type\" : \"sku\", \"sku\" : \"19\" }, \"sceneType\" :  \"1\" }, { \"clientSceneData\" : { \"area\" : \"Aisle\", \"poc\" : \"drinks\" }, \"sceneUid\" : \"146s8124-s21g-12d3-a456-223324221542\", \"facing\" : { \"brand\" : \"Fanta\", \"cname\" : \" \", \"ban\" : \" \", \"category\" : \"sprkl\", \"name\" : \"200MLGLB Fanta Org\", \"count\" : \" \", \"type\" : \"sku\", \"sku\" : \"20\" }, \"sceneType\" :  \"1\" }, { \"clientSceneData\" : { \"area\" : \"Aisle\", \"poc\" : \"drinks\" }, \"sceneUid\" : \"146s8124-s21g-12d3-a456-223324221542\", \"facing\" : { \"brand\" : \"Kinley\", \"cname\" : \" \", \"ban\" : \" \", \"category\" : \"soda\", \"name\" : \"1.25MLPLB FANTA org\", \"count\" : \" \", \"type\" : \"sku\", \"sku\" : \"57\" }, \"sceneType\" : 1 }, { \"clientSceneData\" : { \"area\" : \"Aisle\", \"poc\" : \"drinks\" }, \"sceneUid\" : \"146s8124-s21g-12d3-a456-223324221542\", \"facing\" : { \"brand\" : \"Fanta\", \"cname\" : \" \", \"ban\" : \" \", \"category\" : \"sprkl\", \"name\" : \"2.25LPLB Fanta Org\", \"count\" : \" \", \"type\" : \"sku\", \"sku\" : \"18\" }, \"sceneType\" :  \"1\" }, { \"clientSceneData\" : { \"area\" : \"Aisle\", \"poc\" : \"drinks\" }, \"sceneUid\" : \"146s8124-s21g-12d3-a456-223324221542\", \"facing\" : { \"brand\" : \"Sprite\", \"cname\" : \" \", \"ban\" : \" \", \"category\" : \"sprkl\", \"name\" : \"750MLPLB Fanta Org\", \"count\" : \" \", \"type\" : \"sku\", \"sku\" : \"17\" }, \"sceneType\" :  \"1\" }, { \"clientSceneData\" : { \"area\" : \"Aisle\", \"poc\" : \"drinks\" }, \"sceneUid\" : \"146s8124-s21g-12d3-a456-223324221542\", \"facing\" : { \"brand\" : \"Fanta\", \"cname\" : \" \", \"ban\" : \" \", \"category\" : \"sprkl\", \"name\" : \"300MLGLB Fanta Org\", \"count\" : \" \", \"type\" : \"sku\", \"sku\" : \"22\" }, \"sceneType\" :  \"1\" } ] }\n"
   ]
  },
  {
   "cell_type": "code",
   "execution_count": 19,
   "metadata": {},
   "outputs": [],
   "source": [
    "m2 = query.copy()"
   ]
  },
  {
   "cell_type": "code",
   "execution_count": 22,
   "metadata": {},
   "outputs": [
    {
     "data": {
      "text/plain": [
       "dict_keys(['_id', 'Batch_id', 'image_name', 'isSuccess', 'message', 'records'])"
      ]
     },
     "execution_count": 22,
     "metadata": {},
     "output_type": "execute_result"
    }
   ],
   "source": [
    "route.keys()"
   ]
  },
  {
   "cell_type": "code",
   "execution_count": 23,
   "metadata": {},
   "outputs": [
    {
     "data": {
      "text/plain": [
       "[{'clientSceneData': {'area': 'Aisle', 'poc': 'drinks'},\n",
       "  'sceneUid': '146s8124-s21g-12d3-a456-223324221542',\n",
       "  'facing': {'brand': 'Fanta',\n",
       "   'cname': ' ',\n",
       "   'ban': ' ',\n",
       "   'category': 'sprkl',\n",
       "   'name': '250MLPLB Fanta Org',\n",
       "   'count': ' ',\n",
       "   'type': 'sku',\n",
       "   'sku': '21'},\n",
       "  'sceneType': '1'},\n",
       " {'clientSceneData': {'area': 'Aisle', 'poc': 'drinks'},\n",
       "  'sceneUid': '146s8124-s21g-12d3-a456-223324221542',\n",
       "  'facing': {'brand': 'Fanta',\n",
       "   'cname': ' ',\n",
       "   'ban': ' ',\n",
       "   'category': 'sprkl',\n",
       "   'name': '1.75LPLB Fanta Org',\n",
       "   'count': ' ',\n",
       "   'type': 'sku',\n",
       "   'sku': '19'},\n",
       "  'sceneType': '1'},\n",
       " {'clientSceneData': {'area': 'Aisle', 'poc': 'drinks'},\n",
       "  'sceneUid': '146s8124-s21g-12d3-a456-223324221542',\n",
       "  'facing': {'brand': 'Fanta',\n",
       "   'cname': ' ',\n",
       "   'ban': ' ',\n",
       "   'category': 'sprkl',\n",
       "   'name': '200MLGLB Fanta Org',\n",
       "   'count': ' ',\n",
       "   'type': 'sku',\n",
       "   'sku': '20'},\n",
       "  'sceneType': '1'},\n",
       " {'clientSceneData': {'area': 'Aisle', 'poc': 'drinks'},\n",
       "  'sceneUid': '146s8124-s21g-12d3-a456-223324221542',\n",
       "  'facing': {'brand': 'Kinley',\n",
       "   'cname': ' ',\n",
       "   'ban': ' ',\n",
       "   'category': 'soda',\n",
       "   'name': '1.25MLPLB FANTA org',\n",
       "   'count': ' ',\n",
       "   'type': 'sku',\n",
       "   'sku': '57'},\n",
       "  'sceneType': 1},\n",
       " {'clientSceneData': {'area': 'Aisle', 'poc': 'drinks'},\n",
       "  'sceneUid': '146s8124-s21g-12d3-a456-223324221542',\n",
       "  'facing': {'brand': 'Fanta',\n",
       "   'cname': ' ',\n",
       "   'ban': ' ',\n",
       "   'category': 'sprkl',\n",
       "   'name': '2.25LPLB Fanta Org',\n",
       "   'count': ' ',\n",
       "   'type': 'sku',\n",
       "   'sku': '18'},\n",
       "  'sceneType': '1'},\n",
       " {'clientSceneData': {'area': 'Aisle', 'poc': 'drinks'},\n",
       "  'sceneUid': '146s8124-s21g-12d3-a456-223324221542',\n",
       "  'facing': {'brand': 'Sprite',\n",
       "   'cname': ' ',\n",
       "   'ban': ' ',\n",
       "   'category': 'sprkl',\n",
       "   'name': '750MLPLB Fanta Org',\n",
       "   'count': ' ',\n",
       "   'type': 'sku',\n",
       "   'sku': '17'},\n",
       "  'sceneType': '1'},\n",
       " {'clientSceneData': {'area': 'Aisle', 'poc': 'drinks'},\n",
       "  'sceneUid': '146s8124-s21g-12d3-a456-223324221542',\n",
       "  'facing': {'brand': 'Fanta',\n",
       "   'cname': ' ',\n",
       "   'ban': ' ',\n",
       "   'category': 'sprkl',\n",
       "   'name': '300MLGLB Fanta Org',\n",
       "   'count': ' ',\n",
       "   'type': 'sku',\n",
       "   'sku': '22'},\n",
       "  'sceneType': '1'}]"
      ]
     },
     "execution_count": 23,
     "metadata": {},
     "output_type": "execute_result"
    }
   ],
   "source": [
    "route['records']"
   ]
  },
  {
   "cell_type": "code",
   "execution_count": null,
   "metadata": {},
   "outputs": [],
   "source": []
  }
 ],
 "metadata": {
  "kernelspec": {
   "display_name": "Python 3",
   "language": "python",
   "name": "python3"
  },
  "language_info": {
   "codemirror_mode": {
    "name": "ipython",
    "version": 3
   },
   "file_extension": ".py",
   "mimetype": "text/x-python",
   "name": "python",
   "nbconvert_exporter": "python",
   "pygments_lexer": "ipython3",
   "version": "3.7.4"
  }
 },
 "nbformat": 4,
 "nbformat_minor": 2
}
