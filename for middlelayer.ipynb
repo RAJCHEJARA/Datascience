{
 "cells": [
  {
   "cell_type": "code",
   "execution_count": 15,
   "metadata": {},
   "outputs": [],
   "source": [
    "all_data = [{ \"Batch_id\" : \"Batch_for_testing\", \"image_name\" : \"cokeandfanta_20.jpg\", \"isSuccess\" : \"true\", \"message\" : \"success\", \"records\" : [ { \"clientSceneData\" : { \"area\" : \"Aisle\", \"poc\" : \"drinks\" }, \"sceneUid\" : \"146s8124-s21g-12d3-a456-223324221542\", \"facing\" : { \"brand\" : \"Fanta\", \"cname\" : \" \", \"ban\" : \" \", \"category\" : \"sprkl\", \"name\" : \"250MLPLB Fanta Org\", \"count\" : \" \", \"type\" : \"sku\", \"sku\" : \"21\" }, \"sceneType\" : 1 }, { \"clientSceneData\" : { \"area\" : \"Aisle\", \"poc\" : \"drinks\" }, \"sceneUid\" : \"146s8124-s21g-12d3-a456-223324221542\", \"facing\" : { \"brand\" : \"Fanta\", \"cname\" : \" \", \"ban\" : \" \", \"category\" : \"sprkl\", \"name\" : \"1.75LPLB Fanta Org\", \"count\" : \" \", \"type\" : \"nonsku\", \"sku\" : \"19\" }, \"sceneType\" : 1 }, { \"clientSceneData\" : { \"area\" : \"Aisle\", \"poc\" : \"drinks\" }, \"sceneUid\" : \"146s8124-s21g-12d3-a456-223324221542\", \"facing\" : { \"brand\" : \"Fanta\", \"cname\" : \" \", \"ban\" : \" \", \"category\" : \"sprkl\", \"name\" : \"200MLGLB Fanta Org\", \"count\" : \" \", \"type\" : \"empty\", \"sku\" : \"20\" }, \"sceneType\" : 1 }, { \"clientSceneData\" : { \"area\" : \"Aisle\", \"poc\" : \"drinks\" }, \"sceneUid\" : \"146s8124-s21g-12d3-a456-223324221542\", \"facing\" : { \"brand\" : \"Kinley\", \"cname\" : \" \", \"ban\" : \" \", \"category\" : \"soda\", \"name\" : \"1.25MLPLB FANTA org\", \"count\" : \" \", \"type\" : \"nonsku\", \"sku\" : \"57\" }, \"sceneType\" : 1 }, { \"clientSceneData\" : { \"area\" : \"Aisle\", \"poc\" : \"drinks\" }, \"sceneUid\" : \"146s8124-s21g-12d3-a456-223324221542\", \"facing\" : { \"brand\" : \"Fanta\", \"cname\" : \" \", \"ban\" : \" \", \"category\" : \"sprkl\", \"name\" : \"2.25LPLB Fanta Org\", \"count\" : \" \", \"type\" : \"sku\", \"sku\" : \"18\" }, \"sceneType\" : 1 }, { \"clientSceneData\" : { \"area\" : \"Aisle\", \"poc\" : \"drinks\" }, \"sceneUid\" : \"146s8124-s21g-12d3-a456-223324221542\", \"facing\" : { \"brand\" : \"\", \"cname\" : \" \", \"ban\" : \" \", \"category\" : \"door\", \"name\" : \"750MLPLB Fanta Org\", \"count\" : \" \", \"type\" : \"sku\", \"sku\" : \"17\" }, \"sceneType\" : 1 }, { \"clientSceneData\" : { \"area\" : \"Aisle\", \"poc\" : \"drinks\" }, \"sceneUid\" : \"146s8124-s21g-12d3-a456-223324221542\", \"facing\" : { \"brand\" : \"Fanta\", \"cname\" : \" \", \"ban\" : \" \", \"category\" : \"sprkl\", \"name\" : \"300MLGLB Fanta Org\", \"count\" : \" \", \"type\" : \"sku\", \"sku\" : \"22\" }, \"sceneType\" : 1 } ] },{ \"Batch_id\" : \"xyz\", \"image_name\" : \"cokeandfanta_2005.jpg\", \"isSuccess\" : \"true\", \"message\" : \"success\", \"records\" : [ { \"clientSceneData\" : { \"area\" : \"Aisle\", \"poc\" : \"drinks\" }, \"sceneUid\" : \"abcdes\", \"facing\" : { \"brand\" : \"cool\", \"cname\" : \" \", \"ban\" : \" \", \"category\" : \"\", \"name\" : \"coolers\", \"count\" : \" \", \"type\" : \"zzzcooler\", \"sku\" : \"114\" }, \"sceneType\" : 1 }, { \"clientSceneData\" : { \"area\" : \"Aisle\", \"poc\" : \"drinks\" }, \"sceneUid\" : \"146s812\", \"facing\" : { \"brand\" : \"Fanta\", \"cname\" : \" \", \"ban\" : \" \", \"category\" : \"sprkl\", \"name\" : \"1.75LPLB Fanta Org\", \"count\" : \" \", \"type\" : \"sku\", \"sku\" : \"19\" }, \"sceneType\" : 1 }, { \"clientSceneData\" : { \"area\" : \"Aisle\", \"poc\" : \"drinks\" }, \"sceneUid\" : \"146s8124-s21g-12d3-a456-223324221542\", \"facing\" : { \"brand\" : \"Fanta\", \"cname\" : \" \", \"ban\" : \" \", \"category\" : \"sprkl\", \"name\" : \"200MLGLB Fanta Org\", \"count\" : \" \", \"type\" : \"empty\", \"sku\" : \"20\" }, \"sceneType\" : 1 }, { \"clientSceneData\" : { \"area\" : \"Aisle\", \"poc\" : \"drinks\" }, \"sceneUid\" : \"146s8124-s21g-12d3-a456-223324221542\", \"facing\" : { \"brand\" : \"Kinley\", \"cname\" : \" \", \"ban\" : \" \", \"category\" : \"soda\", \"name\" : \"1.25MLPLB FANTA org\", \"count\" : \" \", \"type\" : \"sku\", \"sku\" : \"57\" }, \"sceneType\" : 1 }, { \"clientSceneData\" : { \"area\" : \"Aisle\", \"poc\" : \"drinks\" }, \"sceneUid\" : \"146s8124-s21g-12d3-a456-223324221542\", \"facing\" : { \"brand\" : \"Fanta\", \"cname\" : \" \", \"ban\" : \" \", \"category\" : \"sprkl\", \"name\" : \"2.25LPLB Fanta Org\", \"count\" : \" \", \"type\" : \"sku\", \"sku\" : \"18\" }, \"sceneType\" : 1 }, { \"clientSceneData\" : { \"area\" : \"Aisle\", \"poc\" : \"drinks\" }, \"sceneUid\" : \"146s8124-s21g-12d3-a456-223324221542\", \"facing\" : { \"brand\" : \"Sprite\", \"cname\" : \" \", \"ban\" : \" \", \"category\" : \"sprkl\", \"name\" : \"750MLPLB Fanta Org\", \"count\" : \" \", \"type\" : \"sku\", \"sku\" : \"17\" }, \"sceneType\" : 1 }, { \"clientSceneData\" : { \"area\" : \"Aisle\", \"poc\" : \"drinks\" }, \"sceneUid\" : \"146s8124-s21g-12d3-a456-223324221542\", \"facing\" : { \"brand\" : \"Bisleri\", \"cname\" : \" \", \"ban\" : \" \", \"category\" : \"sprkl\", \"name\" : \"water_bottl 250\", \"count\" : \" \", \"type\" : \"sku\", \"sku\" : \"22\" }, \"sceneType\" : 1 } ] }]\n",
    "#for item in all_data:\n",
    "    #print(item['records'])\n",
    "    #print(item['records'])\n"
   ]
  },
  {
   "cell_type": "code",
   "execution_count": 16,
   "metadata": {},
   "outputs": [],
   "source": [
    "def all_series_data_from_mongo():\n",
    "    raw_facing_data_all =[]\n",
    "    for item in all_data:\n",
    "        records_data =item['records']\n",
    "        for val in records_data:\n",
    "            val.pop(\"clientSceneData\",None)\n",
    "            val.pop(\"sceneUid\",None)\n",
    "            raw_facing_data_all.append(val['facing'])\n",
    "    return raw_facing_data_all"
   ]
  },
  {
   "cell_type": "code",
   "execution_count": 17,
   "metadata": {},
   "outputs": [],
   "source": [
    "all_series_data_from_mongo =all_series_data_from_mongo()"
   ]
  },
  {
   "cell_type": "code",
   "execution_count": 18,
   "metadata": {},
   "outputs": [
    {
     "data": {
      "text/plain": [
       "14"
      ]
     },
     "execution_count": 18,
     "metadata": {},
     "output_type": "execute_result"
    }
   ],
   "source": [
    "len(all_series_data_from_mongo)"
   ]
  },
  {
   "cell_type": "code",
   "execution_count": 19,
   "metadata": {},
   "outputs": [],
   "source": [
    "all_facing_data = facing_proc(all_series_data_from_mongo)"
   ]
  },
  {
   "cell_type": "code",
   "execution_count": 20,
   "metadata": {},
   "outputs": [],
   "source": [
    "final_json_facing = final_json_facing(all_facing_data,complete_data)"
   ]
  },
  {
   "cell_type": "code",
   "execution_count": 21,
   "metadata": {},
   "outputs": [],
   "source": [
    "final_purity =final_json_purity(all_facing_data)"
   ]
  },
  {
   "cell_type": "code",
   "execution_count": 22,
   "metadata": {},
   "outputs": [
    {
     "data": {
      "text/html": [
       "<div>\n",
       "<style scoped>\n",
       "    .dataframe tbody tr th:only-of-type {\n",
       "        vertical-align: middle;\n",
       "    }\n",
       "\n",
       "    .dataframe tbody tr th {\n",
       "        vertical-align: top;\n",
       "    }\n",
       "\n",
       "    .dataframe thead th {\n",
       "        text-align: right;\n",
       "    }\n",
       "</style>\n",
       "<table border=\"1\" class=\"dataframe\">\n",
       "  <thead>\n",
       "    <tr style=\"text-align: right;\">\n",
       "      <th></th>\n",
       "      <th>Count</th>\n",
       "    </tr>\n",
       "    <tr>\n",
       "      <th>type</th>\n",
       "      <th></th>\n",
       "    </tr>\n",
       "  </thead>\n",
       "  <tbody>\n",
       "    <tr>\n",
       "      <td>empty</td>\n",
       "      <td>2</td>\n",
       "    </tr>\n",
       "    <tr>\n",
       "      <td>nonsku</td>\n",
       "      <td>4</td>\n",
       "    </tr>\n",
       "    <tr>\n",
       "      <td>sku</td>\n",
       "      <td>13</td>\n",
       "    </tr>\n",
       "    <tr>\n",
       "      <td>zzzcooler</td>\n",
       "      <td>1</td>\n",
       "    </tr>\n",
       "  </tbody>\n",
       "</table>\n",
       "</div>"
      ],
      "text/plain": [
       "           Count\n",
       "type            \n",
       "empty          2\n",
       "nonsku         4\n",
       "sku           13\n",
       "zzzcooler      1"
      ]
     },
     "execution_count": 22,
     "metadata": {},
     "output_type": "execute_result"
    }
   ],
   "source": []
  },
  {
   "cell_type": "code",
   "execution_count": 74,
   "metadata": {},
   "outputs": [],
   "source": [
    "def data_dictionary(dict,final_purity,final_json_facing):\n",
    "    data = {}\n",
    "    data['sceneUid'] = dict[\"Batch_id\"]\n",
    "    data['sceneType'] =\"\"\n",
    "    data['purity'] =final_purity\n",
    "    data['clientSceneData'] = \"{'area': 'Aisle', 'poc':'drinks'}\"\n",
    "    data['coolerDoors'] = \"\"\n",
    "    data['sceneImages'] = \"\"\n",
    "    data['facing'] = final_json_facing\n",
    "    return data\n"
   ]
  },
  {
   "cell_type": "code",
   "execution_count": 75,
   "metadata": {},
   "outputs": [],
   "source": [
    "dictionary_for_consolidation =data_dictionary(all_data[0],final_purity,final_json_facing)"
   ]
  },
  {
   "cell_type": "code",
   "execution_count": 76,
   "metadata": {},
   "outputs": [
    {
     "data": {
      "text/plain": [
       "{'sceneUid': 'Batch_for_testing',\n",
       " 'sceneType': '',\n",
       " 'purity': {'totalFacing': 17, 'cokeSKUs': 13, 'nonCokeSKUs': 4, 'empty': 2},\n",
       " 'clientSceneData': \"{'area': 'Aisle', 'poc':'drinks'}\",\n",
       " 'coolerDoors': '',\n",
       " 'sceneImages': '',\n",
       " 'facing': [{'cname': ' ',\n",
       "   'type': 'empty',\n",
       "   'category': 'sprkl',\n",
       "   'brand': 'Fanta',\n",
       "   'ban': ' ',\n",
       "   'name': '200MLGLB Fanta Org',\n",
       "   'sku': '20',\n",
       "   'Count': 2},\n",
       "  {'cname': ' ',\n",
       "   'type': 'nonsku',\n",
       "   'category': 'soda',\n",
       "   'brand': 'Kinley',\n",
       "   'ban': ' ',\n",
       "   'name': '1.25MLPLB FANTA org',\n",
       "   'sku': '57',\n",
       "   'Count': 2},\n",
       "  {'cname': ' ',\n",
       "   'type': 'nonsku',\n",
       "   'category': 'sprkl',\n",
       "   'brand': 'Fanta',\n",
       "   'ban': ' ',\n",
       "   'name': '1.75LPLB Fanta Org',\n",
       "   'sku': '19',\n",
       "   'Count': 2},\n",
       "  {'cname': ' ',\n",
       "   'type': 'sku',\n",
       "   'category': 'soda',\n",
       "   'brand': 'Kinley',\n",
       "   'ban': ' ',\n",
       "   'name': '1.25MLPLB FANTA org',\n",
       "   'sku': '57',\n",
       "   'Count': 2},\n",
       "  {'cname': ' ',\n",
       "   'type': 'sku',\n",
       "   'category': 'sprkl',\n",
       "   'brand': 'Bisleri',\n",
       "   'ban': ' ',\n",
       "   'name': 'water_bottl 250',\n",
       "   'sku': '22',\n",
       "   'Count': 1},\n",
       "  {'cname': ' ',\n",
       "   'type': 'sku',\n",
       "   'category': 'sprkl',\n",
       "   'brand': 'Fanta',\n",
       "   'ban': ' ',\n",
       "   'name': '1.75LPLB Fanta Org',\n",
       "   'sku': '19',\n",
       "   'Count': 2},\n",
       "  {'cname': ' ',\n",
       "   'type': 'sku',\n",
       "   'category': 'sprkl',\n",
       "   'brand': 'Fanta',\n",
       "   'ban': ' ',\n",
       "   'name': '2.25LPLB Fanta Org',\n",
       "   'sku': '18',\n",
       "   'Count': 2},\n",
       "  {'cname': ' ',\n",
       "   'type': 'sku',\n",
       "   'category': 'sprkl',\n",
       "   'brand': 'Fanta',\n",
       "   'ban': ' ',\n",
       "   'name': '250MLPLB Fanta Org',\n",
       "   'sku': '21',\n",
       "   'Count': 1},\n",
       "  {'cname': ' ',\n",
       "   'type': 'sku',\n",
       "   'category': 'sprkl',\n",
       "   'brand': 'Fanta',\n",
       "   'ban': ' ',\n",
       "   'name': '300MLGLB Fanta Org',\n",
       "   'sku': '22',\n",
       "   'Count': 1},\n",
       "  {'cname': ' ',\n",
       "   'type': 'sku',\n",
       "   'category': 'sprkl',\n",
       "   'brand': 'Sprite',\n",
       "   'ban': ' ',\n",
       "   'name': '750MLPLB Fanta Org',\n",
       "   'sku': '17',\n",
       "   'Count': 2},\n",
       "  {'cname': ' ',\n",
       "   'type': 'zzzcooler',\n",
       "   'category': '',\n",
       "   'brand': 'cool',\n",
       "   'ban': ' ',\n",
       "   'name': 'coolers',\n",
       "   'sku': '114',\n",
       "   'Count': 1}]}"
      ]
     },
     "execution_count": 76,
     "metadata": {},
     "output_type": "execute_result"
    }
   ],
   "source": [
    "dictionary_for_consolidation"
   ]
  },
  {
   "cell_type": "code",
   "execution_count": null,
   "metadata": {},
   "outputs": [],
   "source": [
    "def data_from_mongo_table(dict):\n",
    "    final_facing_data=[]\n",
    "    records_data =dict['records']\n",
    "    for item in records_data:\n",
    "        item.pop(\"clientSceneData\",None)\n",
    "        item.pop(\"sceneUid\",None)\n",
    "        final_facing_data.append(item['facing'])\n",
    "    return final_facing_data  "
   ]
  },
  {
   "cell_type": "code",
   "execution_count": 64,
   "metadata": {},
   "outputs": [],
   "source": [
    "consolidation_dictionary = final_consolidated_json(dictionary_for_consolidation)"
   ]
  },
  {
   "cell_type": "code",
   "execution_count": 65,
   "metadata": {},
   "outputs": [
    {
     "data": {
      "text/plain": [
       "{'success': 'true',\n",
       " 'data': {'sceneUid': 'Batch_for_testing',\n",
       "  'sceneType': '',\n",
       "  'purity': {'totalFacing': 15, 'cokeSKUs': 11, 'nonCokeSKUs': 4, 'empty': 2},\n",
       "  'clientSceneData': \"{'area': 'Aisle', 'poc':'drinks'}\",\n",
       "  'coolerDoors': 2,\n",
       "  'sceneImages': '',\n",
       "  'facing': [{'cname': ' ',\n",
       "    'type': 'empty',\n",
       "    'category': 'sprkl',\n",
       "    'brand': 'Fanta',\n",
       "    'ban': ' ',\n",
       "    'name': '200MLGLB Fanta Org',\n",
       "    'sku': '20',\n",
       "    'Count': 2},\n",
       "   {'cname': ' ',\n",
       "    'type': 'nonsku',\n",
       "    'category': 'soda',\n",
       "    'brand': 'Kinley',\n",
       "    'ban': ' ',\n",
       "    'name': '1.25MLPLB FANTA org',\n",
       "    'sku': '57',\n",
       "    'Count': 2},\n",
       "   {'cname': ' ',\n",
       "    'type': 'nonsku',\n",
       "    'category': 'sprkl',\n",
       "    'brand': 'Fanta',\n",
       "    'ban': ' ',\n",
       "    'name': '1.75LPLB Fanta Org',\n",
       "    'sku': '19',\n",
       "    'Count': 2},\n",
       "   {'cname': ' ',\n",
       "    'type': 'sku',\n",
       "    'category': 'soda',\n",
       "    'brand': 'Kinley',\n",
       "    'ban': ' ',\n",
       "    'name': '1.25MLPLB FANTA org',\n",
       "    'sku': '57',\n",
       "    'Count': 2},\n",
       "   {'cname': ' ',\n",
       "    'type': 'sku',\n",
       "    'category': 'sprkl',\n",
       "    'brand': 'Bisleri',\n",
       "    'ban': ' ',\n",
       "    'name': 'water_bottl 250',\n",
       "    'sku': '22',\n",
       "    'Count': 1},\n",
       "   {'cname': ' ',\n",
       "    'type': 'sku',\n",
       "    'category': 'sprkl',\n",
       "    'brand': 'Fanta',\n",
       "    'ban': ' ',\n",
       "    'name': '1.75LPLB Fanta Org',\n",
       "    'sku': '19',\n",
       "    'Count': 2},\n",
       "   {'cname': ' ',\n",
       "    'type': 'sku',\n",
       "    'category': 'sprkl',\n",
       "    'brand': 'Fanta',\n",
       "    'ban': ' ',\n",
       "    'name': '2.25LPLB Fanta Org',\n",
       "    'sku': '18',\n",
       "    'Count': 2},\n",
       "   {'cname': ' ',\n",
       "    'type': 'sku',\n",
       "    'category': 'sprkl',\n",
       "    'brand': 'Fanta',\n",
       "    'ban': ' ',\n",
       "    'name': '250MLPLB Fanta Org',\n",
       "    'sku': '21',\n",
       "    'Count': 1},\n",
       "   {'cname': ' ',\n",
       "    'type': 'sku',\n",
       "    'category': 'sprkl',\n",
       "    'brand': 'Fanta',\n",
       "    'ban': ' ',\n",
       "    'name': '300MLGLB Fanta Org',\n",
       "    'sku': '22',\n",
       "    'Count': 1},\n",
       "   {'cname': ' ',\n",
       "    'type': 'sku',\n",
       "    'category': 'sprkl',\n",
       "    'brand': 'Sprite',\n",
       "    'ban': ' ',\n",
       "    'name': '750MLPLB Fanta Org',\n",
       "    'sku': '17',\n",
       "    'Count': 2},\n",
       "   {'cname': ' ',\n",
       "    'type': 'zzzcooler',\n",
       "    'category': '',\n",
       "    'brand': 'cool',\n",
       "    'ban': ' ',\n",
       "    'name': 'coolers',\n",
       "    'sku': '114',\n",
       "    'Count': 1}]}}"
      ]
     },
     "execution_count": 65,
     "metadata": {},
     "output_type": "execute_result"
    }
   ],
   "source": [
    "consolidation_dictionary"
   ]
  },
  {
   "cell_type": "code",
   "execution_count": null,
   "metadata": {},
   "outputs": [],
   "source": []
  },
  {
   "cell_type": "code",
   "execution_count": null,
   "metadata": {},
   "outputs": [],
   "source": []
  },
  {
   "cell_type": "code",
   "execution_count": null,
   "metadata": {},
   "outputs": [],
   "source": []
  },
  {
   "cell_type": "code",
   "execution_count": null,
   "metadata": {},
   "outputs": [],
   "source": []
  },
  {
   "cell_type": "code",
   "execution_count": null,
   "metadata": {},
   "outputs": [],
   "source": []
  },
  {
   "cell_type": "code",
   "execution_count": null,
   "metadata": {},
   "outputs": [],
   "source": []
  },
  {
   "cell_type": "code",
   "execution_count": null,
   "metadata": {},
   "outputs": [],
   "source": []
  },
  {
   "cell_type": "code",
   "execution_count": null,
   "metadata": {},
   "outputs": [],
   "source": []
  },
  {
   "cell_type": "code",
   "execution_count": null,
   "metadata": {},
   "outputs": [],
   "source": []
  },
  {
   "cell_type": "code",
   "execution_count": null,
   "metadata": {},
   "outputs": [],
   "source": []
  },
  {
   "cell_type": "code",
   "execution_count": null,
   "metadata": {},
   "outputs": [],
   "source": []
  },
  {
   "cell_type": "code",
   "execution_count": null,
   "metadata": {},
   "outputs": [],
   "source": []
  },
  {
   "cell_type": "code",
   "execution_count": null,
   "metadata": {},
   "outputs": [],
   "source": []
  },
  {
   "cell_type": "code",
   "execution_count": null,
   "metadata": {},
   "outputs": [],
   "source": []
  },
  {
   "cell_type": "code",
   "execution_count": null,
   "metadata": {},
   "outputs": [],
   "source": []
  },
  {
   "cell_type": "code",
   "execution_count": null,
   "metadata": {},
   "outputs": [],
   "source": []
  },
  {
   "cell_type": "code",
   "execution_count": null,
   "metadata": {},
   "outputs": [],
   "source": []
  },
  {
   "cell_type": "code",
   "execution_count": null,
   "metadata": {},
   "outputs": [],
   "source": []
  },
  {
   "cell_type": "code",
   "execution_count": null,
   "metadata": {},
   "outputs": [],
   "source": []
  },
  {
   "cell_type": "code",
   "execution_count": null,
   "metadata": {},
   "outputs": [],
   "source": []
  },
  {
   "cell_type": "code",
   "execution_count": null,
   "metadata": {},
   "outputs": [],
   "source": []
  },
  {
   "cell_type": "code",
   "execution_count": null,
   "metadata": {},
   "outputs": [],
   "source": []
  },
  {
   "cell_type": "code",
   "execution_count": null,
   "metadata": {},
   "outputs": [],
   "source": []
  },
  {
   "cell_type": "code",
   "execution_count": null,
   "metadata": {},
   "outputs": [],
   "source": []
  },
  {
   "cell_type": "code",
   "execution_count": null,
   "metadata": {},
   "outputs": [],
   "source": []
  },
  {
   "cell_type": "code",
   "execution_count": null,
   "metadata": {},
   "outputs": [],
   "source": []
  },
  {
   "cell_type": "code",
   "execution_count": null,
   "metadata": {},
   "outputs": [],
   "source": []
  },
  {
   "cell_type": "code",
   "execution_count": 7,
   "metadata": {},
   "outputs": [],
   "source": [
    "def final_consolidated_json(data_dictionary):\n",
    "    consolidated_order = {}\n",
    "    consolidated_order['success'] = \"true\"\n",
    "    consolidated_order['data']=data_dictionary\n",
    "    return consolidated_order  "
   ]
  },
  {
   "cell_type": "code",
   "execution_count": 8,
   "metadata": {},
   "outputs": [],
   "source": [
    "def purity_data(consolidated_data):\n",
    "    dictionary ={}\n",
    "    processing_data =consolidated_data[['type','Count']]\n",
    "    processing_data =processing_data.groupby(\"type\").sum()\n",
    "#     dictionary['totalFacing'] =processing_data['Count'][1]+processing_data['Count'][2]\n",
    "#     dictionary[\"cokeSKUs\"] =processing_data['Count'][2]\n",
    "#     dictionary[\"nonCokeSKUs\"] =processing_data['Count'][1]\n",
    "#     dictionary[\"empty\"] =processing_data['Count'][0]\n",
    "    return processing_data"
   ]
  },
  {
   "cell_type": "code",
   "execution_count": 9,
   "metadata": {},
   "outputs": [],
   "source": [
    "def final_json_purity(appended_dataframe):\n",
    "    #appended_dataframe =df_1.append(df_2)\n",
    "    new_dataframe = complete_data(appended_dataframe)\n",
    "    data_to_return =purity_data(new_dataframe)\n",
    "    return data_to_return"
   ]
  },
  {
   "cell_type": "code",
   "execution_count": null,
   "metadata": {},
   "outputs": [],
   "source": []
  },
  {
   "cell_type": "code",
   "execution_count": 10,
   "metadata": {},
   "outputs": [],
   "source": [
    "def final_json_facing(appended_data,complete_data):\n",
    "    new_dataframe =complete_data(appended_data)\n",
    "    dictionary_format = new_dataframe.to_dict(orient='records')\n",
    "    dumping_in_string = json.dumps(dictionary_format)\n",
    "    loading_in_list = json.loads(dumping_in_string)\n",
    "    return loading_in_list\n",
    "\n",
    "\n",
    "def complete_data(appended_data):\n",
    "    new_dataframe =appended_data.groupby(['cname','type','category','brand','ban','name','sku'],as_index=False)['Count'].sum()\n",
    "    return new_dataframe"
   ]
  },
  {
   "cell_type": "code",
   "execution_count": 11,
   "metadata": {},
   "outputs": [],
   "source": [
    "def final_facing_output(dict1,dict2):\n",
    "    data_list =[]\n",
    "    all_data = data_from_mongo_table(dict)\n",
    "    all_facing = facing_proc(all_data)\n",
    "    data_list.append(all_facing)\n",
    "    appended_data = pd.concat(data_list)\n",
    "    return appended_data\n",
    "    \n",
    "    \n",
    "    "
   ]
  },
  {
   "cell_type": "code",
   "execution_count": 12,
   "metadata": {},
   "outputs": [],
   "source": [
    "def all_facing_data(dict):\n",
    "    data_list =[]\n",
    "    #get_all_data =pd.DataFrame()\n",
    "    mongo_data =data_from_mongo_table(dict)\n",
    "    data_for_facing =facing_proc(mongo_data)\n",
    "    #print(data_for_facing)\n",
    "    data_list.append(data_for_facing)\n",
    "    #print(data_list)\n",
    "   # print(type(data_for_facing))\n",
    "    appended_data = pd.concat(data_list)\n",
    "    return appended_data"
   ]
  },
  {
   "cell_type": "code",
   "execution_count": 13,
   "metadata": {},
   "outputs": [],
   "source": [
    "import json\n",
    "import pandas as pd\n",
    "def facing_proc(data):\n",
    "    df =pd.DataFrame(data)\n",
    "    df['Count'] = df.groupby(['name'])['brand'].transform('count')\n",
    "    df = df.drop_duplicates()\n",
    "    df = df.drop(['count'], axis=1)\n",
    "    return df "
   ]
  },
  {
   "cell_type": "code",
   "execution_count": 14,
   "metadata": {},
   "outputs": [],
   "source": [
    "def data_from_mongo_table(dict):\n",
    "    final_facing_data=[]\n",
    "    records_data =dict['records']\n",
    "    for item in records_data:\n",
    "        item.pop(\"clientSceneData\",None)\n",
    "        item.pop(\"sceneUid\",None)\n",
    "        final_facing_data.append(item['facing'])\n",
    "    return final_facing_data "
   ]
  },
  {
   "cell_type": "code",
   "execution_count": null,
   "metadata": {},
   "outputs": [],
   "source": []
  }
 ],
 "metadata": {
  "kernelspec": {
   "display_name": "Python 3",
   "language": "python",
   "name": "python3"
  },
  "language_info": {
   "codemirror_mode": {
    "name": "ipython",
    "version": 3
   },
   "file_extension": ".py",
   "mimetype": "text/x-python",
   "name": "python",
   "nbconvert_exporter": "python",
   "pygments_lexer": "ipython3",
   "version": "3.7.4"
  }
 },
 "nbformat": 4,
 "nbformat_minor": 2
}
