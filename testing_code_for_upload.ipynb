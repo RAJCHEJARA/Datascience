{
 "cells": [
  {
   "cell_type": "code",
   "execution_count": 1,
   "metadata": {},
   "outputs": [],
   "source": [
    "def uploading_images_one_by_one( i=0):\n",
    "    image_folder =[\"dayone_113.jpg\",\"dayone_114.jpg\",\"dayone_116.jpg\"]\n",
    "    x =i\n",
    "    Batch_image = 5\n",
    "    Batch_id = \"gxhgusdjwibau\"\n",
    "    if Batch_id:\n",
    "        image =image_folder[x]\n",
    "        print(image)\n",
    "        path =os.path.join(parent_dir, Batch_id)\n",
    "        if not os.path.isdir(path):\n",
    "            os.mkdir(path)\n",
    "        destination = \"/\".join([path,image])\n",
    "        \n",
    "        #image.save(destination)\n",
    "        return \"Done\" "
   ]
  },
  {
   "cell_type": "code",
   "execution_count": 3,
   "metadata": {},
   "outputs": [],
   "source": [
    "import os"
   ]
  },
  {
   "cell_type": "code",
   "execution_count": 4,
   "metadata": {},
   "outputs": [
    {
     "data": {
      "text/plain": [
       "'C:\\\\Users\\\\Anusha\\\\Desktop\\\\FLASK_test'"
      ]
     },
     "execution_count": 4,
     "metadata": {},
     "output_type": "execute_result"
    }
   ],
   "source": [
    "os.getcwd()"
   ]
  },
  {
   "cell_type": "code",
   "execution_count": 5,
   "metadata": {},
   "outputs": [],
   "source": [
    "os.chdir('C:/Users/Anusha/Desktop/flask')"
   ]
  },
  {
   "cell_type": "code",
   "execution_count": 6,
   "metadata": {},
   "outputs": [
    {
     "data": {
      "text/plain": [
       "'C:\\\\Users\\\\Anusha\\\\Desktop\\\\flask'"
      ]
     },
     "execution_count": 6,
     "metadata": {},
     "output_type": "execute_result"
    }
   ],
   "source": [
    "os.getcwd()"
   ]
  },
  {
   "cell_type": "code",
   "execution_count": 11,
   "metadata": {
    "scrolled": true
   },
   "outputs": [],
   "source": [
    "parent_dir = \"C:\\\\Users\\\\Anusha\\\\Desktop\\\\flask\\\\images\"\n",
    "def counting_the_files():\n",
    "    i = 0\n",
    "    total_image =3\n",
    "    Batch_id =\"guaguhbhsguygc1232\"\n",
    "    Main_folder = parent_dir + \"\\\\{}\".format(Batch_id)\n",
    "   \n",
    "    os.chdir(Main_folder)\n",
    "    files = [f for f in os.listdir('.') if os.path.isfile(f)]\n",
    "    if len(files)< total_image:\n",
    "        print(\"The last image was successfully uploaded,please upload {} image more\".format(total_image -len(files)))\n",
    "    if len(files)==total_image:\n",
    "        print(\"all {} images are uploaded in {} folder,Thanks\".format(len(files),Batch_id))"
   ]
  },
  {
   "cell_type": "code",
   "execution_count": 12,
   "metadata": {},
   "outputs": [
    {
     "name": "stdout",
     "output_type": "stream",
     "text": [
      "The last image was successfully uploaded,please upload 1 image more\n"
     ]
    }
   ],
   "source": [
    "all_image_files =counting_the_files()"
   ]
  },
  {
   "cell_type": "code",
   "execution_count": 40,
   "metadata": {},
   "outputs": [
    {
     "data": {
      "text/plain": [
       "['.ipynb_checkpoints',\n",
       " 'dayone_113.jpg',\n",
       " 'dayone_114.jpg',\n",
       " 'dayone_116.jpg',\n",
       " 'guaguhbhsguygc1232',\n",
       " 'image',\n",
       " 'maxexp.ipynb',\n",
       " 'maxexperienceformat.ipynb',\n",
       " 'mongodbupload.ipynb',\n",
       " 'processigfacin.csv',\n",
       " 'process_scheduler.ipynb',\n",
       " 'proc_data.ipynb',\n",
       " 'purity.ipynb',\n",
       " 'raw-data-form.py',\n",
       " 'testing_code_for_upload.ipynb',\n",
       " 'Untitled.ipynb']"
      ]
     },
     "execution_count": 40,
     "metadata": {},
     "output_type": "execute_result"
    }
   ],
   "source": [
    "os.listdir('.')"
   ]
  },
  {
   "cell_type": "code",
   "execution_count": 17,
   "metadata": {},
   "outputs": [
    {
     "ename": "SyntaxError",
     "evalue": "invalid syntax (<ipython-input-17-0f445b673b64>, line 11)",
     "output_type": "error",
     "traceback": [
      "\u001b[1;36m  File \u001b[1;32m\"<ipython-input-17-0f445b673b64>\"\u001b[1;36m, line \u001b[1;32m11\u001b[0m\n\u001b[1;33m    logger.info(\"the destination is here:{}\".format(destination))\u001b[0m\n\u001b[1;37m         ^\u001b[0m\n\u001b[1;31mSyntaxError\u001b[0m\u001b[1;31m:\u001b[0m invalid syntax\n"
     ]
    }
   ],
   "source": [
    "image_folder = [\"dayone_113.jpg\",\"dayone_114.jpg\",\"dayone_116\"]\n",
    "i = 0\n",
    "Batch_image =5 \n",
    "Batch_id =\"gxhgusdjwibau\"\n",
    "if Batch_id:\n",
    "image =image_folder[i]\n",
    "path = os.path.join(parent_dir,batch)\n",
    "logger.info(\"the direc is here:{}\".format(path))\n",
    "if not os.path.isdir(path):\n",
    "    os.mkdir(path)\n",
    "destination = \"/\".join([path, image.filename])\n",
    "logger.info(\"the destination is here:{}\".format(destination))\n",
    "\n",
    "image.save(destination)\n",
    "print(\"Image saved\")\n",
    "return batch"
   ]
  },
  {
   "cell_type": "code",
   "execution_count": 5,
   "metadata": {},
   "outputs": [
    {
     "data": {
      "text/plain": [
       "'C:\\\\Users\\\\Anusha\\\\Desktop\\\\FLASK_test'"
      ]
     },
     "execution_count": 5,
     "metadata": {},
     "output_type": "execute_result"
    }
   ],
   "source": [
    "os.getcwd()"
   ]
  },
  {
   "cell_type": "code",
   "execution_count": 26,
   "metadata": {},
   "outputs": [
    {
     "data": {
      "text/plain": [
       "'C:\\\\image\\\\test\\\\dayone_113.jpg'"
      ]
     },
     "execution_count": 26,
     "metadata": {},
     "output_type": "execute_result"
    }
   ],
   "source": [
    "import path\n",
    "os.path.abspath(\"/image/test/dayone_113.jpg\")"
   ]
  },
  {
   "cell_type": "code",
   "execution_count": null,
   "metadata": {},
   "outputs": [],
   "source": []
  }
 ],
 "metadata": {
  "kernelspec": {
   "display_name": "Python 3",
   "language": "python",
   "name": "python3"
  },
  "language_info": {
   "codemirror_mode": {
    "name": "ipython",
    "version": 3
   },
   "file_extension": ".py",
   "mimetype": "text/x-python",
   "name": "python",
   "nbconvert_exporter": "python",
   "pygments_lexer": "ipython3",
   "version": "3.7.4"
  }
 },
 "nbformat": 4,
 "nbformat_minor": 2
}
