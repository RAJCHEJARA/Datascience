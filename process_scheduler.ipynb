{
 "cells": [
  {
   "cell_type": "code",
   "execution_count": 5,
   "metadata": {},
   "outputs": [],
   "source": [
    "# import pymongo\n",
    "# import schedule\n",
    "# import time\n",
    "# from datetime import datetime\n",
    "# from pymongo import MongoClient\n",
    "# client = MongoClient(\"localhost\",27010)\n",
    "# print(client)\n",
    "# db =client.clients\n",
    "# db.clients.count()\n",
    "# clients =db.clients\n",
    "# clients.find()\n",
    "\n",
    "\n",
    "# data_for_process = db.Batch.find({\"status\":\"Pending\"})\n",
    "# data_for_process =list(data_for_process)\n",
    "# image_for_process =data_for_process['images']\n",
    "# Batch_for_process =data_for_process['Batchid']\n",
    "# new_dictionary.setdefault('images', [])\n",
    "# new_dictionary.setdefault('Batch', [])\n",
    "# new_dictionary['images'].append(image_files)\n",
    "# new_dictionary['Batch'].append(item)\n",
    "\n",
    "#for item in dictionar\n",
    "i =0\n",
    "for item in new_dictionary:\n",
    "    image =item['image']\n",
    "    for i in range(len(image)):\n",
    "        \n",
    "        processing_image =image[i]\n",
    "        processor = Processor(FLAGS.server, '')\n",
    "        process_result = processor.Process('pg-model', file)\n",
    "        res = process_result.split(\"outputs\")\n",
    "        resultJson = list()\n",
    "        for data in res:\n",
    "            if not data:\n",
    "                continue\n",
    "                \n",
    "        if data.find(\"model_spec\") is not -1:\n",
    "            \n",
    "            continue\n",
    "        floatIndex = data.index(\"float_val\")\n",
    "        rightIndex = data.rindex(\"}\") - 5\n",
    "        floatVal = data[floatIndex:rightIndex].replace(\"\\n\", \",\").replace(\"\\\\\", \"\").split(\",\")\n",
    "        key = data[data.index(\"key:\") + 6: data.index('value')-4]\n",
    "        resultJson.append({\"key\": key, \"records\": floatVal})\n",
    "        return ({\"records\": processor.parseJson(resultJson), \"isSuccess\": True, \"message\": \"success\"})\n",
    "\n",
    "   #  return json.dumps({\"records\": processor.parseJson(resultJson), \"isSuccess\": True, \"message\": \"success\"})\n",
    "        \n",
    "            \n",
    "    \n",
    "    \n",
    "    "
   ]
  },
  {
   "cell_type": "code",
   "execution_count": 6,
   "metadata": {},
   "outputs": [
    {
     "data": {
      "text/plain": [
       "[[1, 2], [4, 5], [7, 8]]"
      ]
     },
     "execution_count": 6,
     "metadata": {},
     "output_type": "execute_result"
    }
   ],
   "source": []
  },
  {
   "cell_type": "code",
   "execution_count": null,
   "metadata": {},
   "outputs": [],
   "source": []
  }
 ],
 "metadata": {
  "kernelspec": {
   "display_name": "Python 3",
   "language": "python",
   "name": "python3"
  },
  "language_info": {
   "codemirror_mode": {
    "name": "ipython",
    "version": 3
   },
   "file_extension": ".py",
   "mimetype": "text/x-python",
   "name": "python",
   "nbconvert_exporter": "python",
   "pygments_lexer": "ipython3",
   "version": "3.7.4"
  }
 },
 "nbformat": 4,
 "nbformat_minor": 2
}
