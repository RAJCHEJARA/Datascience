{
 "cells": [
  {
   "cell_type": "code",
   "execution_count": 145,
   "metadata": {},
   "outputs": [
    {
     "data": {
      "text/html": [
       "<div>\n",
       "<style scoped>\n",
       "    .dataframe tbody tr th:only-of-type {\n",
       "        vertical-align: middle;\n",
       "    }\n",
       "\n",
       "    .dataframe tbody tr th {\n",
       "        vertical-align: top;\n",
       "    }\n",
       "\n",
       "    .dataframe thead th {\n",
       "        text-align: right;\n",
       "    }\n",
       "</style>\n",
       "<table border=\"1\" class=\"dataframe\">\n",
       "  <thead>\n",
       "    <tr style=\"text-align: right;\">\n",
       "      <th></th>\n",
       "      <th>class</th>\n",
       "      <th>text</th>\n",
       "    </tr>\n",
       "  </thead>\n",
       "  <tbody>\n",
       "    <tr>\n",
       "      <th>0</th>\n",
       "      <td>Pos</td>\n",
       "      <td>a common complaint amongst film critics is   ...</td>\n",
       "    </tr>\n",
       "    <tr>\n",
       "      <th>1</th>\n",
       "      <td>Pos</td>\n",
       "      <td>whew   this film oozes energy   the kind of b...</td>\n",
       "    </tr>\n",
       "    <tr>\n",
       "      <th>2</th>\n",
       "      <td>Pos</td>\n",
       "      <td>steven spielberg s   amistad     which is bas...</td>\n",
       "    </tr>\n",
       "    <tr>\n",
       "      <th>3</th>\n",
       "      <td>Pos</td>\n",
       "      <td>he has spent his entire life in an awful litt...</td>\n",
       "    </tr>\n",
       "    <tr>\n",
       "      <th>4</th>\n",
       "      <td>Pos</td>\n",
       "      <td>being that it is a foreign language film with...</td>\n",
       "    </tr>\n",
       "  </tbody>\n",
       "</table>\n",
       "</div>"
      ],
      "text/plain": [
       "  class                                               text\n",
       "0   Pos   a common complaint amongst film critics is   ...\n",
       "1   Pos   whew   this film oozes energy   the kind of b...\n",
       "2   Pos   steven spielberg s   amistad     which is bas...\n",
       "3   Pos   he has spent his entire life in an awful litt...\n",
       "4   Pos   being that it is a foreign language film with..."
      ]
     },
     "execution_count": 145,
     "metadata": {},
     "output_type": "execute_result"
    }
   ],
   "source": [
    "import pandas as pd\n",
    "train = pd.read_csv('movie_review_train.csv')\n",
    "test =pd.read_csv('movie_review_test.csv')\n",
    "train.head()"
   ]
  },
  {
   "cell_type": "code",
   "execution_count": 156,
   "metadata": {},
   "outputs": [],
   "source": [
    "train['label'] = train[\"class\"].map({'Pos':0, 'Neg':1})\n",
    "test['label'] = test[\"class\"].map({'Pos':0, 'Neg':1})"
   ]
  },
  {
   "cell_type": "code",
   "execution_count": 157,
   "metadata": {},
   "outputs": [],
   "source": [
    "X=train.text\n",
    "y=train.label"
   ]
  },
  {
   "cell_type": "code",
   "execution_count": 158,
   "metadata": {},
   "outputs": [],
   "source": [
    "# from sklearn.model_selection  import train_test_split\n",
    "# X_train, X_test, y_train, y_test = train_test_split(X, y, random_state=1)"
   ]
  },
  {
   "cell_type": "code",
   "execution_count": 159,
   "metadata": {},
   "outputs": [],
   "source": [
    "from sklearn.feature_extraction.text import CountVectorizer\n",
    "vect = CountVectorizer(stop_words='english',min_df=.03, max_df=.8)"
   ]
  },
  {
   "cell_type": "code",
   "execution_count": 160,
   "metadata": {},
   "outputs": [
    {
     "data": {
      "text/plain": [
       "CountVectorizer(max_df=0.8, min_df=0.03, stop_words='english')"
      ]
     },
     "execution_count": 160,
     "metadata": {},
     "output_type": "execute_result"
    }
   ],
   "source": [
    "vect.fit(X)"
   ]
  },
  {
   "cell_type": "code",
   "execution_count": 161,
   "metadata": {},
   "outputs": [
    {
     "data": {
      "text/plain": [
       "1643"
      ]
     },
     "execution_count": 161,
     "metadata": {},
     "output_type": "execute_result"
    }
   ],
   "source": [
    "len(vect.vocabulary_)"
   ]
  },
  {
   "cell_type": "code",
   "execution_count": 162,
   "metadata": {},
   "outputs": [
    {
     "data": {
      "text/plain": [
       "1643"
      ]
     },
     "execution_count": 162,
     "metadata": {},
     "output_type": "execute_result"
    }
   ],
   "source": [
    "len(vect.get_feature_names())"
   ]
  },
  {
   "cell_type": "code",
   "execution_count": 163,
   "metadata": {},
   "outputs": [],
   "source": [
    "x_test =test.text\n",
    "y_test =test.label\n",
    "# transform\n",
    "X_train_transformed = vect.transform(X_train)\n",
    "X_test_tranformed =vect.transform(x_test)"
   ]
  },
  {
   "cell_type": "code",
   "execution_count": 164,
   "metadata": {},
   "outputs": [
    {
     "data": {
      "text/plain": [
       "0.785"
      ]
     },
     "execution_count": 164,
     "metadata": {},
     "output_type": "execute_result"
    }
   ],
   "source": [
    "from sklearn.naive_bayes import BernoulliNB\n",
    "\n",
    "# instantiate bernoulli NB object\n",
    "bnb = BernoulliNB()\n",
    "\n",
    "# fit \n",
    "bnb.fit(X_train_transformed,y_train)\n",
    "\n",
    "# predict class\n",
    "y_pred_class = bnb.predict(X_test_tranformed)\n",
    "\n",
    "# predict probability\n",
    "y_pred_proba =bnb.predict_proba(X_test_tranformed)\n",
    "\n",
    "# accuracy\n",
    "from sklearn import metrics\n",
    "metrics.accuracy_score(y_test, y_pred_class)\n"
   ]
  },
  {
   "cell_type": "code",
   "execution_count": 165,
   "metadata": {},
   "outputs": [
    {
     "data": {
      "text/plain": [
       "BernoulliNB()"
      ]
     },
     "execution_count": 165,
     "metadata": {},
     "output_type": "execute_result"
    }
   ],
   "source": [
    "bnb"
   ]
  },
  {
   "cell_type": "code",
   "execution_count": 166,
   "metadata": {},
   "outputs": [
    {
     "data": {
      "text/plain": [
       "array([[135,  65],\n",
       "       [ 21, 179]], dtype=int64)"
      ]
     },
     "execution_count": 166,
     "metadata": {},
     "output_type": "execute_result"
    }
   ],
   "source": [
    "metrics.confusion_matrix(y_test, y_pred_class)"
   ]
  },
  {
   "cell_type": "code",
   "execution_count": 171,
   "metadata": {},
   "outputs": [
    {
     "name": "stdout",
     "output_type": "stream",
     "text": [
      "[[135  65]\n",
      " [ 21 179]]\n",
      "65\n"
     ]
    }
   ],
   "source": [
    "confusion = metrics.confusion_matrix(y_test, y_pred_class)\n",
    "print(confusion)\n",
    "#[row, column]\n",
    "TN = confusion[0, 0]\n",
    "FP = confusion[0, 1]\n",
    "FN = confusion[1, 0]\n",
    "print(FP)\n",
    "TP = confusion[1, 1]"
   ]
  },
  {
   "cell_type": "code",
   "execution_count": 137,
   "metadata": {},
   "outputs": [
    {
     "name": "stdout",
     "output_type": "stream",
     "text": [
      "sensitivity 0.325\n"
     ]
    }
   ],
   "source": [
    "sensitivity = TP / float(FN + TP)\n",
    "print(\"sensitivity\",sensitivity)"
   ]
  },
  {
   "cell_type": "code",
   "execution_count": 138,
   "metadata": {},
   "outputs": [
    {
     "name": "stdout",
     "output_type": "stream",
     "text": [
      "specificity 0.105\n"
     ]
    }
   ],
   "source": [
    "specificity = TN / float(TN + FP)\n",
    "\n",
    "print(\"specificity\",specificity)"
   ]
  },
  {
   "cell_type": "code",
   "execution_count": 139,
   "metadata": {},
   "outputs": [
    {
     "name": "stdout",
     "output_type": "stream",
     "text": [
      "precision 0.26639344262295084\n",
      "0.26639344262295084\n"
     ]
    }
   ],
   "source": [
    "precision = TP / float(TP + FP)\n",
    "\n",
    "print(\"precision\",precision)\n",
    "print(metrics.precision_score(y_test, y_pred_class))"
   ]
  },
  {
   "cell_type": "code",
   "execution_count": 140,
   "metadata": {},
   "outputs": [
    {
     "name": "stdout",
     "output_type": "stream",
     "text": [
      "precision 0.26639344262295084\n",
      "PRECISION SCORE : 0.26639344262295084\n",
      "RECALL SCORE : 0.325\n",
      "F1 SCORE : 0.2927927927927928\n"
     ]
    }
   ],
   "source": [
    "print(\"precision\",precision)\n",
    "print(\"PRECISION SCORE :\",metrics.precision_score(y_test, y_pred_class))\n",
    "print(\"RECALL SCORE :\", metrics.recall_score(y_test, y_pred_class))\n",
    "print(\"F1 SCORE :\",metrics.f1_score(y_test, y_pred_class))"
   ]
  },
  {
   "cell_type": "code",
   "execution_count": 141,
   "metadata": {},
   "outputs": [
    {
     "data": {
      "text/plain": [
       "array([[9.89349110e-01, 1.06508900e-02],\n",
       "       [9.98250043e-01, 1.74995711e-03],\n",
       "       [4.80836239e-01, 5.19163761e-01],\n",
       "       [1.00000000e+00, 1.01152142e-10],\n",
       "       [5.56367024e-03, 9.94436330e-01],\n",
       "       [1.00000000e+00, 9.33417082e-13],\n",
       "       [9.99996357e-01, 3.64325561e-06],\n",
       "       [9.98904148e-01, 1.09585212e-03],\n",
       "       [2.02949081e-01, 7.97050919e-01],\n",
       "       [9.04164012e-01, 9.58359881e-02],\n",
       "       [9.99667680e-01, 3.32320071e-04],\n",
       "       [9.99103864e-01, 8.96136274e-04],\n",
       "       [9.98773288e-01, 1.22671198e-03],\n",
       "       [9.96339109e-01, 3.66089070e-03],\n",
       "       [9.99938356e-01, 6.16441652e-05],\n",
       "       [5.15907169e-01, 4.84092831e-01],\n",
       "       [4.05515227e-02, 9.59448477e-01],\n",
       "       [9.99999995e-01, 5.21782027e-09],\n",
       "       [9.93847507e-01, 6.15249331e-03],\n",
       "       [8.37433584e-03, 9.91625664e-01],\n",
       "       [5.33423444e-02, 9.46657656e-01],\n",
       "       [9.94444759e-01, 5.55524137e-03],\n",
       "       [3.54068801e-04, 9.99645931e-01],\n",
       "       [9.99999964e-01, 3.64777139e-08],\n",
       "       [8.99007374e-01, 1.00992626e-01],\n",
       "       [9.60050124e-01, 3.99498759e-02],\n",
       "       [3.75819795e-01, 6.24180205e-01],\n",
       "       [1.00000000e+00, 2.25639718e-16],\n",
       "       [9.99992822e-01, 7.17849359e-06],\n",
       "       [1.00000000e+00, 3.29435812e-11],\n",
       "       [9.35818706e-01, 6.41812936e-02],\n",
       "       [3.34834827e-02, 9.66516517e-01],\n",
       "       [1.00000000e+00, 5.02035160e-11],\n",
       "       [9.92687603e-01, 7.31239685e-03],\n",
       "       [3.71342311e-02, 9.62865769e-01],\n",
       "       [9.99996728e-01, 3.27229604e-06],\n",
       "       [9.77452897e-01, 2.25471035e-02],\n",
       "       [9.99999486e-01, 5.14148508e-07],\n",
       "       [1.55939226e-01, 8.44060774e-01],\n",
       "       [9.92506879e-01, 7.49312125e-03],\n",
       "       [4.99880759e-01, 5.00119241e-01],\n",
       "       [9.99999905e-01, 9.45397391e-08],\n",
       "       [9.99994735e-01, 5.26465736e-06],\n",
       "       [9.99993188e-01, 6.81242843e-06],\n",
       "       [6.39741597e-01, 3.60258403e-01],\n",
       "       [9.98051834e-01, 1.94816593e-03],\n",
       "       [9.97271971e-01, 2.72802900e-03],\n",
       "       [9.99745539e-01, 2.54461000e-04],\n",
       "       [9.99955776e-01, 4.42243233e-05],\n",
       "       [1.12928132e-05, 9.99988707e-01],\n",
       "       [5.98777494e-05, 9.99940122e-01],\n",
       "       [9.99661513e-01, 3.38487341e-04],\n",
       "       [4.45252988e-01, 5.54747012e-01],\n",
       "       [9.99997076e-01, 2.92443592e-06],\n",
       "       [2.84407084e-01, 7.15592916e-01],\n",
       "       [9.99639880e-01, 3.60120271e-04],\n",
       "       [1.22359876e-01, 8.77640124e-01],\n",
       "       [2.68368948e-03, 9.97316311e-01],\n",
       "       [2.56296604e-03, 9.97437034e-01],\n",
       "       [9.99999964e-01, 3.57585712e-08],\n",
       "       [8.90792958e-01, 1.09207042e-01],\n",
       "       [9.99807979e-01, 1.92021229e-04],\n",
       "       [9.99995584e-01, 4.41573881e-06],\n",
       "       [1.68693622e-01, 8.31306378e-01],\n",
       "       [9.58753462e-01, 4.12465381e-02],\n",
       "       [9.99995563e-01, 4.43727345e-06],\n",
       "       [9.81985282e-01, 1.80147181e-02],\n",
       "       [9.89694652e-01, 1.03053478e-02],\n",
       "       [9.20046641e-01, 7.99533594e-02],\n",
       "       [9.99996253e-01, 3.74692278e-06],\n",
       "       [9.39046054e-01, 6.09539461e-02],\n",
       "       [9.99995144e-01, 4.85582671e-06],\n",
       "       [7.14768602e-04, 9.99285231e-01],\n",
       "       [5.60937244e-01, 4.39062756e-01],\n",
       "       [9.99454805e-01, 5.45194596e-04],\n",
       "       [1.16915250e-04, 9.99883085e-01],\n",
       "       [9.99992545e-01, 7.45462092e-06],\n",
       "       [4.90759985e-02, 9.50924001e-01],\n",
       "       [9.92803577e-01, 7.19642319e-03],\n",
       "       [1.67654653e-02, 9.83234535e-01],\n",
       "       [2.58368227e-03, 9.97416318e-01],\n",
       "       [9.99999250e-01, 7.49577517e-07],\n",
       "       [3.45298988e-06, 9.99996547e-01],\n",
       "       [9.98852107e-01, 1.14789256e-03],\n",
       "       [9.95421778e-01, 4.57822228e-03],\n",
       "       [9.99977286e-01, 2.27144305e-05],\n",
       "       [9.99999996e-01, 4.09208019e-09],\n",
       "       [9.99999982e-01, 1.79614692e-08],\n",
       "       [8.21271915e-01, 1.78728085e-01],\n",
       "       [2.50457871e-02, 9.74954213e-01],\n",
       "       [2.42726864e-03, 9.97572731e-01],\n",
       "       [9.94082852e-01, 5.91714797e-03],\n",
       "       [9.99347530e-01, 6.52469910e-04],\n",
       "       [2.80077522e-01, 7.19922478e-01],\n",
       "       [9.99229163e-01, 7.70836543e-04],\n",
       "       [2.09928981e-01, 7.90071019e-01],\n",
       "       [9.99999971e-01, 2.93342092e-08],\n",
       "       [9.99484973e-01, 5.15027265e-04],\n",
       "       [1.26018017e-02, 9.87398198e-01],\n",
       "       [9.47680580e-01, 5.23194203e-02],\n",
       "       [9.63663064e-01, 3.63369358e-02],\n",
       "       [9.99997552e-01, 2.44784163e-06],\n",
       "       [9.99701024e-01, 2.98976463e-04],\n",
       "       [8.20781651e-01, 1.79218349e-01],\n",
       "       [2.51236656e-01, 7.48763344e-01],\n",
       "       [9.99999999e-01, 6.40305917e-10],\n",
       "       [9.99847560e-01, 1.52440137e-04],\n",
       "       [1.38418922e-05, 9.99986158e-01],\n",
       "       [2.91390513e-01, 7.08609487e-01],\n",
       "       [8.19979766e-02, 9.18002023e-01],\n",
       "       [1.28809766e-01, 8.71190234e-01],\n",
       "       [5.32009434e-04, 9.99467991e-01],\n",
       "       [9.97996209e-01, 2.00379066e-03],\n",
       "       [9.99999089e-01, 9.10832753e-07],\n",
       "       [8.11105587e-03, 9.91888944e-01],\n",
       "       [1.00000000e+00, 1.45460060e-10],\n",
       "       [9.99957516e-01, 4.24836510e-05],\n",
       "       [9.98705858e-01, 1.29414159e-03],\n",
       "       [5.88303865e-04, 9.99411696e-01],\n",
       "       [7.61456669e-06, 9.99992385e-01],\n",
       "       [9.99999865e-01, 1.35044327e-07],\n",
       "       [9.99999932e-01, 6.81931902e-08],\n",
       "       [1.00000000e+00, 2.53351742e-13],\n",
       "       [9.99999966e-01, 3.37512019e-08],\n",
       "       [9.96228550e-01, 3.77145023e-03],\n",
       "       [9.27756895e-01, 7.22431049e-02],\n",
       "       [9.63190089e-01, 3.68099111e-02],\n",
       "       [1.68797229e-01, 8.31202771e-01],\n",
       "       [9.48289280e-01, 5.17107204e-02],\n",
       "       [9.99332960e-01, 6.67039511e-04],\n",
       "       [9.93883227e-01, 6.11677314e-03],\n",
       "       [9.99999972e-01, 2.76930851e-08],\n",
       "       [3.63076586e-03, 9.96369234e-01],\n",
       "       [9.19532876e-01, 8.04671239e-02],\n",
       "       [9.99901154e-01, 9.88459813e-05],\n",
       "       [2.75908698e-03, 9.97240913e-01],\n",
       "       [9.99507571e-01, 4.92429098e-04],\n",
       "       [7.20862656e-01, 2.79137344e-01],\n",
       "       [2.81721129e-02, 9.71827887e-01],\n",
       "       [1.99703753e-01, 8.00296247e-01],\n",
       "       [9.99997393e-01, 2.60669782e-06],\n",
       "       [9.99947093e-01, 5.29072093e-05],\n",
       "       [9.95208799e-01, 4.79120092e-03],\n",
       "       [1.00000000e+00, 5.19272743e-12],\n",
       "       [9.99767999e-01, 2.32000834e-04],\n",
       "       [2.85286550e-03, 9.97147135e-01],\n",
       "       [1.00000000e+00, 6.03223490e-15],\n",
       "       [9.99999999e-01, 7.23946400e-10],\n",
       "       [9.99956720e-01, 4.32800504e-05],\n",
       "       [2.46728131e-01, 7.53271869e-01],\n",
       "       [6.26078989e-02, 9.37392101e-01],\n",
       "       [9.96615509e-01, 3.38449100e-03],\n",
       "       [9.18112775e-02, 9.08188722e-01],\n",
       "       [9.99616883e-01, 3.83117467e-04],\n",
       "       [9.98113764e-01, 1.88623594e-03],\n",
       "       [9.99999999e-01, 8.56108541e-10],\n",
       "       [9.93731055e-01, 6.26894468e-03],\n",
       "       [6.45835510e-02, 9.35416449e-01],\n",
       "       [9.99999981e-01, 1.91523863e-08],\n",
       "       [9.99567708e-01, 4.32292392e-04],\n",
       "       [9.98013533e-01, 1.98646688e-03],\n",
       "       [2.35466217e-01, 7.64533783e-01],\n",
       "       [9.99857865e-01, 1.42134702e-04],\n",
       "       [1.00000000e+00, 3.67482708e-17],\n",
       "       [9.99984797e-01, 1.52025803e-05],\n",
       "       [9.99975738e-01, 2.42621823e-05],\n",
       "       [9.99999999e-01, 9.41453131e-10],\n",
       "       [9.99997228e-01, 2.77207170e-06],\n",
       "       [9.99989896e-01, 1.01043562e-05],\n",
       "       [1.00000000e+00, 4.73237411e-12],\n",
       "       [9.63527522e-05, 9.99903647e-01],\n",
       "       [9.57132160e-03, 9.90428678e-01],\n",
       "       [8.84036546e-01, 1.15963454e-01],\n",
       "       [1.60801724e-04, 9.99839198e-01],\n",
       "       [9.99417511e-01, 5.82489300e-04],\n",
       "       [3.35279438e-01, 6.64720562e-01],\n",
       "       [5.31417904e-01, 4.68582096e-01],\n",
       "       [9.99999782e-01, 2.18243833e-07],\n",
       "       [4.14081685e-01, 5.85918315e-01],\n",
       "       [6.75116450e-01, 3.24883550e-01],\n",
       "       [8.24421688e-01, 1.75578312e-01],\n",
       "       [9.99930340e-01, 6.96601326e-05],\n",
       "       [9.98053325e-01, 1.94667550e-03],\n",
       "       [8.10630488e-01, 1.89369512e-01],\n",
       "       [5.57624786e-05, 9.99944238e-01],\n",
       "       [1.11508257e-05, 9.99988849e-01],\n",
       "       [9.99999806e-01, 1.93590842e-07],\n",
       "       [9.98172217e-01, 1.82778291e-03],\n",
       "       [5.19937048e-03, 9.94800630e-01],\n",
       "       [6.79614800e-02, 9.32038520e-01],\n",
       "       [9.99999978e-01, 2.18385805e-08],\n",
       "       [8.32425612e-02, 9.16757439e-01],\n",
       "       [9.99953371e-01, 4.66294718e-05],\n",
       "       [1.92495855e-01, 8.07504145e-01],\n",
       "       [3.60509212e-03, 9.96394908e-01],\n",
       "       [9.99771490e-01, 2.28509667e-04],\n",
       "       [2.23370462e-02, 9.77662954e-01],\n",
       "       [8.46149407e-01, 1.53850593e-01],\n",
       "       [1.46631211e-04, 9.99853369e-01],\n",
       "       [9.99985401e-01, 1.45987357e-05],\n",
       "       [2.13608510e-05, 9.99978639e-01],\n",
       "       [4.96239568e-07, 9.99999504e-01],\n",
       "       [9.00887296e-07, 9.99999099e-01],\n",
       "       [4.38336912e-04, 9.99561663e-01],\n",
       "       [2.64991667e-01, 7.35008333e-01],\n",
       "       [7.37326238e-02, 9.26267376e-01],\n",
       "       [7.94930872e-04, 9.99205069e-01],\n",
       "       [2.76839224e-10, 1.00000000e+00],\n",
       "       [6.16630596e-01, 3.83369404e-01],\n",
       "       [1.26707879e-06, 9.99998733e-01],\n",
       "       [9.99634935e-01, 3.65064784e-04],\n",
       "       [2.13963722e-03, 9.97860363e-01],\n",
       "       [3.25218876e-07, 9.99999675e-01],\n",
       "       [3.85306155e-07, 9.99999615e-01],\n",
       "       [5.65426109e-06, 9.99994346e-01],\n",
       "       [1.44575488e-06, 9.99998554e-01],\n",
       "       [3.98772265e-10, 1.00000000e+00],\n",
       "       [7.37369265e-07, 9.99999263e-01],\n",
       "       [3.08800348e-03, 9.96911997e-01],\n",
       "       [9.28511113e-03, 9.90714889e-01],\n",
       "       [9.85011219e-03, 9.90149888e-01],\n",
       "       [5.06239767e-04, 9.99493760e-01],\n",
       "       [1.11292274e-08, 9.99999989e-01],\n",
       "       [1.10691035e-01, 8.89308965e-01],\n",
       "       [9.50226902e-01, 4.97730976e-02],\n",
       "       [8.20395867e-01, 1.79604133e-01],\n",
       "       [6.76399376e-04, 9.99323601e-01],\n",
       "       [5.84262919e-05, 9.99941574e-01],\n",
       "       [1.00588337e-03, 9.98994117e-01],\n",
       "       [2.84672144e-06, 9.99997153e-01],\n",
       "       [3.13620395e-03, 9.96863796e-01],\n",
       "       [1.15762694e-05, 9.99988424e-01],\n",
       "       [9.57738722e-01, 4.22612783e-02],\n",
       "       [1.19912481e-04, 9.99880088e-01],\n",
       "       [2.81495984e-02, 9.71850402e-01],\n",
       "       [9.73520992e-01, 2.64790082e-02],\n",
       "       [3.28101207e-05, 9.99967190e-01],\n",
       "       [6.60612066e-06, 9.99993394e-01],\n",
       "       [2.71891866e-06, 9.99997281e-01],\n",
       "       [1.88735587e-03, 9.98112644e-01],\n",
       "       [2.38022974e-05, 9.99976198e-01],\n",
       "       [9.95505311e-01, 4.49468909e-03],\n",
       "       [6.74888045e-01, 3.25111955e-01],\n",
       "       [3.60848946e-07, 9.99999639e-01],\n",
       "       [1.15314362e-04, 9.99884686e-01],\n",
       "       [2.06269017e-07, 9.99999794e-01],\n",
       "       [9.98816218e-05, 9.99900118e-01],\n",
       "       [8.08499747e-01, 1.91500253e-01],\n",
       "       [8.11969892e-06, 9.99991880e-01],\n",
       "       [3.56424006e-02, 9.64357599e-01],\n",
       "       [5.21586471e-02, 9.47841353e-01],\n",
       "       [9.03821801e-04, 9.99096178e-01],\n",
       "       [1.26467008e-03, 9.98735330e-01],\n",
       "       [1.71929081e-10, 1.00000000e+00],\n",
       "       [2.03540312e-01, 7.96459688e-01],\n",
       "       [4.75732354e-05, 9.99952427e-01],\n",
       "       [4.23625062e-08, 9.99999958e-01],\n",
       "       [3.41905664e-05, 9.99965809e-01],\n",
       "       [1.77266399e-04, 9.99822734e-01],\n",
       "       [1.19362340e-01, 8.80637660e-01],\n",
       "       [8.59704372e-01, 1.40295628e-01],\n",
       "       [8.10056882e-03, 9.91899431e-01],\n",
       "       [7.10841100e-05, 9.99928916e-01],\n",
       "       [8.33525086e-10, 9.99999999e-01],\n",
       "       [3.28436882e-08, 9.99999967e-01],\n",
       "       [4.42970974e-08, 9.99999956e-01],\n",
       "       [5.71495892e-06, 9.99994285e-01],\n",
       "       [4.55271980e-02, 9.54472802e-01],\n",
       "       [4.90864281e-05, 9.99950914e-01],\n",
       "       [2.88758897e-03, 9.97112411e-01],\n",
       "       [3.94363255e-03, 9.96056367e-01],\n",
       "       [6.91042344e-03, 9.93089577e-01],\n",
       "       [1.80131886e-02, 9.81986811e-01],\n",
       "       [7.31343212e-05, 9.99926866e-01],\n",
       "       [3.69312042e-09, 9.99999996e-01],\n",
       "       [2.86237057e-02, 9.71376294e-01],\n",
       "       [1.83713607e-04, 9.99816286e-01],\n",
       "       [1.20629157e-08, 9.99999988e-01],\n",
       "       [7.09051991e-03, 9.92909480e-01],\n",
       "       [3.08388081e-04, 9.99691612e-01],\n",
       "       [1.51274288e-05, 9.99984873e-01],\n",
       "       [1.17723738e-02, 9.88227626e-01],\n",
       "       [3.91823039e-04, 9.99608177e-01],\n",
       "       [8.41756072e-01, 1.58243928e-01],\n",
       "       [9.12205193e-07, 9.99999088e-01],\n",
       "       [2.86250642e-06, 9.99997137e-01],\n",
       "       [2.68010257e-05, 9.99973199e-01],\n",
       "       [2.34014962e-08, 9.99999977e-01],\n",
       "       [6.07186586e-04, 9.99392813e-01],\n",
       "       [2.96430668e-01, 7.03569332e-01],\n",
       "       [9.96409733e-01, 3.59026728e-03],\n",
       "       [1.19783280e-03, 9.98802167e-01],\n",
       "       [7.69435369e-03, 9.92305646e-01],\n",
       "       [2.59604799e-04, 9.99740395e-01],\n",
       "       [9.66712296e-01, 3.32877044e-02],\n",
       "       [1.18011601e-02, 9.88198840e-01],\n",
       "       [3.21763856e-01, 6.78236144e-01],\n",
       "       [2.08803297e-01, 7.91196703e-01],\n",
       "       [1.12009048e-05, 9.99988799e-01],\n",
       "       [1.02149567e-03, 9.98978504e-01],\n",
       "       [9.99258209e-01, 7.41791128e-04],\n",
       "       [3.62999052e-02, 9.63700095e-01],\n",
       "       [4.00829579e-06, 9.99995992e-01],\n",
       "       [8.84864165e-01, 1.15135835e-01],\n",
       "       [6.33479350e-02, 9.36652065e-01],\n",
       "       [5.77865661e-03, 9.94221343e-01],\n",
       "       [4.74442285e-03, 9.95255577e-01],\n",
       "       [9.99998972e-01, 1.02774988e-06],\n",
       "       [4.17643492e-03, 9.95823565e-01],\n",
       "       [1.42609524e-04, 9.99857390e-01],\n",
       "       [2.32684463e-03, 9.97673155e-01],\n",
       "       [9.75140047e-04, 9.99024860e-01],\n",
       "       [1.45591534e-03, 9.98544085e-01],\n",
       "       [1.22086663e-05, 9.99987791e-01],\n",
       "       [7.41955031e-05, 9.99925804e-01],\n",
       "       [8.31174317e-02, 9.16882568e-01],\n",
       "       [5.94577966e-04, 9.99405422e-01],\n",
       "       [9.32753729e-06, 9.99990672e-01],\n",
       "       [8.30691869e-01, 1.69308131e-01],\n",
       "       [1.26922149e-03, 9.98730779e-01],\n",
       "       [9.99924997e-01, 7.50029913e-05],\n",
       "       [3.29175624e-07, 9.99999671e-01],\n",
       "       [9.72854483e-01, 2.71455167e-02],\n",
       "       [8.34652721e-08, 9.99999917e-01],\n",
       "       [4.13000886e-02, 9.58699911e-01],\n",
       "       [4.85025192e-03, 9.95149748e-01],\n",
       "       [8.79528360e-12, 1.00000000e+00],\n",
       "       [9.07448377e-01, 9.25516227e-02],\n",
       "       [3.02697884e-04, 9.99697302e-01],\n",
       "       [1.32476592e-07, 9.99999868e-01],\n",
       "       [9.18252177e-06, 9.99990817e-01],\n",
       "       [3.13616106e-06, 9.99996864e-01],\n",
       "       [1.71787052e-06, 9.99998282e-01],\n",
       "       [1.50392054e-06, 9.99998496e-01],\n",
       "       [4.29877868e-04, 9.99570122e-01],\n",
       "       [7.44335034e-03, 9.92556650e-01],\n",
       "       [6.31926186e-02, 9.36807381e-01],\n",
       "       [5.32694368e-07, 9.99999467e-01],\n",
       "       [6.53292676e-04, 9.99346707e-01],\n",
       "       [7.25529307e-04, 9.99274471e-01],\n",
       "       [1.99689706e-05, 9.99980031e-01],\n",
       "       [1.31440604e-06, 9.99998686e-01],\n",
       "       [7.69091561e-03, 9.92309084e-01],\n",
       "       [1.68858321e-04, 9.99831142e-01],\n",
       "       [1.26240771e-06, 9.99998738e-01],\n",
       "       [4.17117271e-03, 9.95828827e-01],\n",
       "       [7.35019992e-05, 9.99926498e-01],\n",
       "       [1.41162117e-02, 9.85883788e-01],\n",
       "       [3.40079879e-06, 9.99996599e-01],\n",
       "       [1.70033978e-08, 9.99999983e-01],\n",
       "       [3.23477725e-08, 9.99999968e-01],\n",
       "       [1.85700108e-02, 9.81429989e-01],\n",
       "       [2.63746972e-05, 9.99973625e-01],\n",
       "       [7.69486208e-03, 9.92305138e-01],\n",
       "       [4.76948938e-06, 9.99995231e-01],\n",
       "       [2.50007377e-06, 9.99997500e-01],\n",
       "       [1.07542384e-01, 8.92457616e-01],\n",
       "       [8.22084019e-03, 9.91779160e-01],\n",
       "       [4.50244677e-06, 9.99995498e-01],\n",
       "       [3.17242947e-04, 9.99682757e-01],\n",
       "       [2.00175720e-01, 7.99824280e-01],\n",
       "       [2.15537002e-01, 7.84462998e-01],\n",
       "       [8.27221661e-04, 9.99172778e-01],\n",
       "       [1.04352534e-01, 8.95647466e-01],\n",
       "       [7.66989564e-04, 9.99233010e-01],\n",
       "       [1.29051052e-05, 9.99987095e-01],\n",
       "       [4.71411889e-05, 9.99952859e-01],\n",
       "       [1.68393613e-01, 8.31606387e-01],\n",
       "       [3.01254891e-03, 9.96987451e-01],\n",
       "       [2.62678905e-04, 9.99737321e-01],\n",
       "       [1.83019545e-01, 8.16980455e-01],\n",
       "       [1.95509359e-04, 9.99804491e-01],\n",
       "       [7.04282587e-02, 9.29571741e-01],\n",
       "       [1.12289348e-09, 9.99999999e-01],\n",
       "       [3.80515318e-02, 9.61948468e-01],\n",
       "       [3.17271493e-07, 9.99999683e-01],\n",
       "       [3.97469711e-02, 9.60253029e-01],\n",
       "       [3.77500368e-04, 9.99622500e-01],\n",
       "       [1.39236943e-03, 9.98607631e-01],\n",
       "       [1.53222363e-01, 8.46777637e-01],\n",
       "       [3.52018412e-08, 9.99999965e-01],\n",
       "       [2.47036738e-01, 7.52963262e-01],\n",
       "       [7.57044303e-02, 9.24295570e-01],\n",
       "       [7.95005351e-03, 9.92049946e-01],\n",
       "       [3.74743655e-07, 9.99999625e-01],\n",
       "       [2.50323685e-05, 9.99974968e-01],\n",
       "       [4.53766388e-04, 9.99546234e-01],\n",
       "       [1.28041829e-01, 8.71958171e-01],\n",
       "       [8.69516233e-09, 9.99999991e-01],\n",
       "       [1.31771127e-03, 9.98682289e-01],\n",
       "       [2.75494795e-04, 9.99724505e-01],\n",
       "       [2.04208838e-08, 9.99999980e-01],\n",
       "       [1.01944367e-03, 9.98980556e-01],\n",
       "       [3.77769875e-06, 9.99996222e-01],\n",
       "       [9.65546132e-04, 9.99034454e-01],\n",
       "       [8.02901440e-02, 9.19709856e-01],\n",
       "       [1.81188147e-05, 9.99981881e-01],\n",
       "       [1.32439708e-03, 9.98675603e-01],\n",
       "       [9.79898329e-01, 2.01016707e-02],\n",
       "       [3.04159638e-03, 9.96958404e-01]])"
      ]
     },
     "execution_count": 141,
     "metadata": {},
     "output_type": "execute_result"
    }
   ],
   "source": [
    "y_pred_proba"
   ]
  },
  {
   "cell_type": "code",
   "execution_count": 142,
   "metadata": {},
   "outputs": [],
   "source": [
    "from sklearn.metrics import confusion_matrix as sk_confusion_matrix\n",
    "from sklearn.metrics import roc_curve, auc\n",
    "import matplotlib.pyplot as plt\n",
    "false_positive_rate, true_positive_rate, thresholds = roc_curve(y_test, y_pred_proba[:,1])\n",
    "roc_auc = auc(false_positive_rate, true_positive_rate)"
   ]
  },
  {
   "cell_type": "code",
   "execution_count": 143,
   "metadata": {},
   "outputs": [
    {
     "name": "stdout",
     "output_type": "stream",
     "text": [
      "0.11850000000000001\n"
     ]
    }
   ],
   "source": [
    "print (roc_auc)"
   ]
  },
  {
   "cell_type": "code",
   "execution_count": 144,
   "metadata": {},
   "outputs": [
    {
     "data": {
      "text/plain": [
       "[<matplotlib.lines.Line2D at 0x1b27daf8148>]"
      ]
     },
     "execution_count": 144,
     "metadata": {},
     "output_type": "execute_result"
    },
    {
     "data": {
      "image/png": "[encoded data removed]",
      "text/plain": [
       "<Figure size 432x288 with 1 Axes>"
      ]
     },
     "metadata": {
      "needs_background": "light"
     },
     "output_type": "display_data"
    }
   ],
   "source": [
    "%matplotlib inline  \n",
    "plt.ylabel('True Positive Rate')\n",
    "plt.xlabel('False Positive Rate')\n",
    "plt.title('ROC')\n",
    "plt.plot(false_positive_rate, true_positive_rate)"
   ]
  },
  {
   "cell_type": "code",
   "execution_count": null,
   "metadata": {},
   "outputs": [],
   "source": []
  }
 ],
 "metadata": {
  "kernelspec": {
   "display_name": "Python 3",
   "language": "python",
   "name": "python3"
  },
  "language_info": {
   "codemirror_mode": {
    "name": "ipython",
    "version": 3
   },
   "file_extension": ".py",
   "mimetype": "text/x-python",
   "name": "python",
   "nbconvert_exporter": "python",
   "pygments_lexer": "ipython3",
   "version": "3.7.6"
  }
 },
 "nbformat": 4,
 "nbformat_minor": 4
}
