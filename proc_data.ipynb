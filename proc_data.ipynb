{
 "cells": [
  {
   "cell_type": "code",
   "execution_count": 83,
   "metadata": {},
   "outputs": [],
   "source": [
    "import pandas as pd\n",
    "data2 =[\n",
    "{'cname': '\" \"',\n",
    "  'type': '\"empty\"',\n",
    "  'count': '\" \"',\n",
    "  'category': '\"sprkl\"',\n",
    "  'brand': '\"coke\"',\n",
    "  'ban': '\" \"',\n",
    "  'name': \"'1.25LPLB Coke'\"},\n",
    " {'cname': '\" \"',\n",
    "  'type': '\"noncoke\"',\n",
    "  'count': '\" \"',\n",
    "  'category': '\"sprkl\"',\n",
    "  'brand': '\"coke\"',\n",
    "  'ban': '\" \"',\n",
    "  'name': \"'750MLPLB Coke'\"},\n",
    " {'cname': '\" \"',\n",
    "  'type': '\"door\"',\n",
    "  'count': '\" \"',\n",
    "  'category': '\"sprkl\"',\n",
    "  'brand': '\"coke\"',\n",
    "  'ban': '\" \"',\n",
    "  'name': \"'2.25LPLB Coke'\"},\n",
    " {'cname': '\" \"',\n",
    "  'type': '\"empty\"',\n",
    "  'count': '\" \"',\n",
    "  'category': '\"sprkl\"',\n",
    "  'brand': '\"coke\"',\n",
    "  'ban': '\" \"',\n",
    "  'name': \"'200MLGLB Coke'\"},\n",
    " {'cname': '\" \"',\n",
    "  'type': '\"sku\"',\n",
    "  'count': '\" \"',\n",
    "  'category': '\"sprkl\"',\n",
    "  'brand': '\"coke\"',\n",
    "  'ban': '\" \"',\n",
    "  'name': \"'2.25LPLB Coke'\"},\n",
    "{'cname': '\" \"',\n",
    "  'type': '\"sku\"',\n",
    "  'count': '\" \"',\n",
    "  'category': '\"sprkl\"',\n",
    "  'brand': '\"coke\"',\n",
    "  'ban': '\" \"',\n",
    "  'name': \"'2.25LPLB Coke'\"}]"
   ]
  },
  {
   "cell_type": "code",
   "execution_count": 4,
   "metadata": {},
   "outputs": [
    {
     "data": {
      "text/plain": [
       "5"
      ]
     },
     "execution_count": 4,
     "metadata": {},
     "output_type": "execute_result"
    }
   ],
   "source": []
  },
  {
   "cell_type": "code",
   "execution_count": 2,
   "metadata": {},
   "outputs": [],
   "source": [
    "#data_proc =pd.DataFrame(data)"
   ]
  },
  {
   "cell_type": "code",
   "execution_count": 3,
   "metadata": {},
   "outputs": [],
   "source": [
    "#data_proc"
   ]
  },
  {
   "cell_type": "code",
   "execution_count": 4,
   "metadata": {},
   "outputs": [],
   "source": [
    "#data_proc['name'].value_counts()"
   ]
  },
  {
   "cell_type": "code",
   "execution_count": 5,
   "metadata": {},
   "outputs": [],
   "source": [
    "#data_proc['Counts'] = data_proc.groupby(['name'])['brand'].transform('count')"
   ]
  },
  {
   "cell_type": "code",
   "execution_count": 6,
   "metadata": {},
   "outputs": [],
   "source": [
    "#data_proc"
   ]
  },
  {
   "cell_type": "code",
   "execution_count": 7,
   "metadata": {},
   "outputs": [],
   "source": [
    "#data_proc = data_proc.drop_duplicates()"
   ]
  },
  {
   "cell_type": "code",
   "execution_count": 8,
   "metadata": {},
   "outputs": [],
   "source": [
    "#data_proc.drop(['count'], axis=1)"
   ]
  },
  {
   "cell_type": "code",
   "execution_count": 80,
   "metadata": {},
   "outputs": [],
   "source": [
    "def facing_proc(data):\n",
    "    df =pd.DataFrame(data)\n",
    "    df['Counts'] = df.groupby(['name'])['brand'].transform('count')\n",
    "    df = df.drop_duplicates()\n",
    "    df = df.drop(['count'], axis=1)\n",
    "    return df    "
   ]
  },
  {
   "cell_type": "code",
   "execution_count": 81,
   "metadata": {},
   "outputs": [],
   "source": [
    "df1 =facing_proc(data)"
   ]
  },
  {
   "cell_type": "code",
   "execution_count": 82,
   "metadata": {},
   "outputs": [],
   "source": [
    "def complete_data(appended_dataframe):\n",
    "    new_dataframe =appended_dataframe.groupby(['cname','type','category','brand','ban','name'],as_index=False)['Counts'].sum()\n",
    "    return new_dataframe"
   ]
  },
  {
   "cell_type": "code",
   "execution_count": 87,
   "metadata": {},
   "outputs": [],
   "source": [
    "test =complete_data(final_dataframe)"
   ]
  },
  {
   "cell_type": "code",
   "execution_count": 88,
   "metadata": {},
   "outputs": [],
   "source": [
    "new_purity = test.groupby('type')['Counts'].sum()"
   ]
  },
  {
   "cell_type": "code",
   "execution_count": 93,
   "metadata": {},
   "outputs": [
    {
     "data": {
      "text/plain": [
       "4"
      ]
     },
     "execution_count": 93,
     "metadata": {},
     "output_type": "execute_result"
    }
   ],
   "source": [
    "new_purity[1]"
   ]
  },
  {
   "cell_type": "code",
   "execution_count": 84,
   "metadata": {},
   "outputs": [],
   "source": [
    "df2 =facing_proc(data2)"
   ]
  },
  {
   "cell_type": "code",
   "execution_count": 85,
   "metadata": {},
   "outputs": [],
   "source": [
    "final_dataframe = df1.append(df2)"
   ]
  },
  {
   "cell_type": "code",
   "execution_count": 86,
   "metadata": {
    "scrolled": true
   },
   "outputs": [
    {
     "data": {
      "text/html": [
       "<div>\n",
       "<style scoped>\n",
       "    .dataframe tbody tr th:only-of-type {\n",
       "        vertical-align: middle;\n",
       "    }\n",
       "\n",
       "    .dataframe tbody tr th {\n",
       "        vertical-align: top;\n",
       "    }\n",
       "\n",
       "    .dataframe thead th {\n",
       "        text-align: right;\n",
       "    }\n",
       "</style>\n",
       "<table border=\"1\" class=\"dataframe\">\n",
       "  <thead>\n",
       "    <tr style=\"text-align: right;\">\n",
       "      <th></th>\n",
       "      <th>cname</th>\n",
       "      <th>type</th>\n",
       "      <th>category</th>\n",
       "      <th>brand</th>\n",
       "      <th>ban</th>\n",
       "      <th>name</th>\n",
       "      <th>Counts</th>\n",
       "    </tr>\n",
       "  </thead>\n",
       "  <tbody>\n",
       "    <tr>\n",
       "      <td>0</td>\n",
       "      <td>\" \"</td>\n",
       "      <td>\"empty\"</td>\n",
       "      <td>\"sprkl\"</td>\n",
       "      <td>\"coke\"</td>\n",
       "      <td>\" \"</td>\n",
       "      <td>'1.25LPLB Coke'</td>\n",
       "      <td>1</td>\n",
       "    </tr>\n",
       "    <tr>\n",
       "      <td>1</td>\n",
       "      <td>\" \"</td>\n",
       "      <td>\"noncoke\"</td>\n",
       "      <td>\"sprkl\"</td>\n",
       "      <td>\"coke\"</td>\n",
       "      <td>\" \"</td>\n",
       "      <td>'750MLPLB Coke'</td>\n",
       "      <td>1</td>\n",
       "    </tr>\n",
       "    <tr>\n",
       "      <td>2</td>\n",
       "      <td>\" \"</td>\n",
       "      <td>\"door\"</td>\n",
       "      <td>\"sprkl\"</td>\n",
       "      <td>\"coke\"</td>\n",
       "      <td>\" \"</td>\n",
       "      <td>'2.25LPLB Coke'</td>\n",
       "      <td>3</td>\n",
       "    </tr>\n",
       "    <tr>\n",
       "      <td>3</td>\n",
       "      <td>\" \"</td>\n",
       "      <td>\"empty\"</td>\n",
       "      <td>\"sprkl\"</td>\n",
       "      <td>\"coke\"</td>\n",
       "      <td>\" \"</td>\n",
       "      <td>'200MLGLB Coke'</td>\n",
       "      <td>1</td>\n",
       "    </tr>\n",
       "    <tr>\n",
       "      <td>4</td>\n",
       "      <td>\" \"</td>\n",
       "      <td>\"sku\"</td>\n",
       "      <td>\"sprkl\"</td>\n",
       "      <td>\"coke\"</td>\n",
       "      <td>\" \"</td>\n",
       "      <td>'2.25LPLB Coke'</td>\n",
       "      <td>3</td>\n",
       "    </tr>\n",
       "    <tr>\n",
       "      <td>0</td>\n",
       "      <td>\" \"</td>\n",
       "      <td>\"empty\"</td>\n",
       "      <td>\"sprkl\"</td>\n",
       "      <td>\"coke\"</td>\n",
       "      <td>\" \"</td>\n",
       "      <td>'1.25LPLB Coke'</td>\n",
       "      <td>1</td>\n",
       "    </tr>\n",
       "    <tr>\n",
       "      <td>1</td>\n",
       "      <td>\" \"</td>\n",
       "      <td>\"noncoke\"</td>\n",
       "      <td>\"sprkl\"</td>\n",
       "      <td>\"coke\"</td>\n",
       "      <td>\" \"</td>\n",
       "      <td>'750MLPLB Coke'</td>\n",
       "      <td>1</td>\n",
       "    </tr>\n",
       "    <tr>\n",
       "      <td>2</td>\n",
       "      <td>\" \"</td>\n",
       "      <td>\"door\"</td>\n",
       "      <td>\"sprkl\"</td>\n",
       "      <td>\"coke\"</td>\n",
       "      <td>\" \"</td>\n",
       "      <td>'2.25LPLB Coke'</td>\n",
       "      <td>3</td>\n",
       "    </tr>\n",
       "    <tr>\n",
       "      <td>3</td>\n",
       "      <td>\" \"</td>\n",
       "      <td>\"empty\"</td>\n",
       "      <td>\"sprkl\"</td>\n",
       "      <td>\"coke\"</td>\n",
       "      <td>\" \"</td>\n",
       "      <td>'200MLGLB Coke'</td>\n",
       "      <td>1</td>\n",
       "    </tr>\n",
       "    <tr>\n",
       "      <td>4</td>\n",
       "      <td>\" \"</td>\n",
       "      <td>\"sku\"</td>\n",
       "      <td>\"sprkl\"</td>\n",
       "      <td>\"coke\"</td>\n",
       "      <td>\" \"</td>\n",
       "      <td>'2.25LPLB Coke'</td>\n",
       "      <td>3</td>\n",
       "    </tr>\n",
       "  </tbody>\n",
       "</table>\n",
       "</div>"
      ],
      "text/plain": [
       "  cname       type category   brand  ban             name  Counts\n",
       "0   \" \"    \"empty\"  \"sprkl\"  \"coke\"  \" \"  '1.25LPLB Coke'       1\n",
       "1   \" \"  \"noncoke\"  \"sprkl\"  \"coke\"  \" \"  '750MLPLB Coke'       1\n",
       "2   \" \"     \"door\"  \"sprkl\"  \"coke\"  \" \"  '2.25LPLB Coke'       3\n",
       "3   \" \"    \"empty\"  \"sprkl\"  \"coke\"  \" \"  '200MLGLB Coke'       1\n",
       "4   \" \"      \"sku\"  \"sprkl\"  \"coke\"  \" \"  '2.25LPLB Coke'       3\n",
       "0   \" \"    \"empty\"  \"sprkl\"  \"coke\"  \" \"  '1.25LPLB Coke'       1\n",
       "1   \" \"  \"noncoke\"  \"sprkl\"  \"coke\"  \" \"  '750MLPLB Coke'       1\n",
       "2   \" \"     \"door\"  \"sprkl\"  \"coke\"  \" \"  '2.25LPLB Coke'       3\n",
       "3   \" \"    \"empty\"  \"sprkl\"  \"coke\"  \" \"  '200MLGLB Coke'       1\n",
       "4   \" \"      \"sku\"  \"sprkl\"  \"coke\"  \" \"  '2.25LPLB Coke'       3"
      ]
     },
     "execution_count": 86,
     "metadata": {},
     "output_type": "execute_result"
    }
   ],
   "source": [
    "final_dataframe"
   ]
  },
  {
   "cell_type": "code",
   "execution_count": 1,
   "metadata": {},
   "outputs": [
    {
     "ename": "NameError",
     "evalue": "name 'final_dataframe' is not defined",
     "output_type": "error",
     "traceback": [
      "\u001b[1;31m---------------------------------------------------------------------------\u001b[0m",
      "\u001b[1;31mNameError\u001b[0m                                 Traceback (most recent call last)",
      "\u001b[1;32m<ipython-input-1-b532719ee72c>\u001b[0m in \u001b[0;36m<module>\u001b[1;34m\u001b[0m\n\u001b[0;32m      1\u001b[0m \u001b[1;32mimport\u001b[0m \u001b[0mjson\u001b[0m\u001b[1;33m\u001b[0m\u001b[1;33m\u001b[0m\u001b[0m\n\u001b[1;32m----> 2\u001b[1;33m \u001b[0md\u001b[0m \u001b[1;33m=\u001b[0m \u001b[0mfinal_dataframe\u001b[0m\u001b[1;33m.\u001b[0m\u001b[0mto_dict\u001b[0m\u001b[1;33m(\u001b[0m\u001b[0morient\u001b[0m\u001b[1;33m=\u001b[0m\u001b[1;34m'records'\u001b[0m\u001b[1;33m)\u001b[0m\u001b[1;33m\u001b[0m\u001b[1;33m\u001b[0m\u001b[0m\n\u001b[0m\u001b[0;32m      3\u001b[0m \u001b[0mj\u001b[0m \u001b[1;33m=\u001b[0m \u001b[0mjson\u001b[0m\u001b[1;33m.\u001b[0m\u001b[0mdumps\u001b[0m\u001b[1;33m(\u001b[0m\u001b[0md\u001b[0m\u001b[1;33m)\u001b[0m\u001b[1;33m\u001b[0m\u001b[1;33m\u001b[0m\u001b[0m\n",
      "\u001b[1;31mNameError\u001b[0m: name 'final_dataframe' is not defined"
     ]
    }
   ],
   "source": [
    "import json\n",
    "d = final_dataframe.to_dict(orient='records')\n",
    "j = json.dumps(d)"
   ]
  },
  {
   "cell_type": "code",
   "execution_count": 39,
   "metadata": {},
   "outputs": [],
   "source": [
    "new_df = final_dataframe.groupby(['name','type'],as_index=False)['Counts'].sum()"
   ]
  },
  {
   "cell_type": "code",
   "execution_count": 40,
   "metadata": {},
   "outputs": [
    {
     "data": {
      "text/html": [
       "<div>\n",
       "<style scoped>\n",
       "    .dataframe tbody tr th:only-of-type {\n",
       "        vertical-align: middle;\n",
       "    }\n",
       "\n",
       "    .dataframe tbody tr th {\n",
       "        vertical-align: top;\n",
       "    }\n",
       "\n",
       "    .dataframe thead th {\n",
       "        text-align: right;\n",
       "    }\n",
       "</style>\n",
       "<table border=\"1\" class=\"dataframe\">\n",
       "  <thead>\n",
       "    <tr style=\"text-align: right;\">\n",
       "      <th></th>\n",
       "      <th>name</th>\n",
       "      <th>type</th>\n",
       "      <th>Counts</th>\n",
       "    </tr>\n",
       "  </thead>\n",
       "  <tbody>\n",
       "    <tr>\n",
       "      <td>0</td>\n",
       "      <td>'1.25LPLB Coke'</td>\n",
       "      <td>\"sku\"</td>\n",
       "      <td>2</td>\n",
       "    </tr>\n",
       "    <tr>\n",
       "      <td>1</td>\n",
       "      <td>'2.25LPLB Coke'</td>\n",
       "      <td>\"sku\"</td>\n",
       "      <td>5</td>\n",
       "    </tr>\n",
       "    <tr>\n",
       "      <td>2</td>\n",
       "      <td>'200MLGLB Coke'</td>\n",
       "      <td>\"sku\"</td>\n",
       "      <td>2</td>\n",
       "    </tr>\n",
       "    <tr>\n",
       "      <td>3</td>\n",
       "      <td>'750MLPLB Coke'</td>\n",
       "      <td>\"sku\"</td>\n",
       "      <td>2</td>\n",
       "    </tr>\n",
       "  </tbody>\n",
       "</table>\n",
       "</div>"
      ],
      "text/plain": [
       "              name   type  Counts\n",
       "0  '1.25LPLB Coke'  \"sku\"       2\n",
       "1  '2.25LPLB Coke'  \"sku\"       5\n",
       "2  '200MLGLB Coke'  \"sku\"       2\n",
       "3  '750MLPLB Coke'  \"sku\"       2"
      ]
     },
     "execution_count": 40,
     "metadata": {},
     "output_type": "execute_result"
    }
   ],
   "source": [
    "new_df"
   ]
  },
  {
   "cell_type": "code",
   "execution_count": 36,
   "metadata": {},
   "outputs": [
    {
     "data": {
      "text/html": [
       "<div>\n",
       "<style scoped>\n",
       "    .dataframe tbody tr th:only-of-type {\n",
       "        vertical-align: middle;\n",
       "    }\n",
       "\n",
       "    .dataframe tbody tr th {\n",
       "        vertical-align: top;\n",
       "    }\n",
       "\n",
       "    .dataframe thead th {\n",
       "        text-align: right;\n",
       "    }\n",
       "</style>\n",
       "<table border=\"1\" class=\"dataframe\">\n",
       "  <thead>\n",
       "    <tr style=\"text-align: right;\">\n",
       "      <th></th>\n",
       "      <th>cname</th>\n",
       "      <th>type</th>\n",
       "      <th>category</th>\n",
       "      <th>brand</th>\n",
       "      <th>ban</th>\n",
       "      <th>name</th>\n",
       "      <th>Counts</th>\n",
       "      <th>Counting</th>\n",
       "    </tr>\n",
       "  </thead>\n",
       "  <tbody>\n",
       "    <tr>\n",
       "      <td>0</td>\n",
       "      <td>\" \"</td>\n",
       "      <td>\"sku\"</td>\n",
       "      <td>\"sprkl\"</td>\n",
       "      <td>\"coke\"</td>\n",
       "      <td>\" \"</td>\n",
       "      <td>'1.25LPLB Coke'</td>\n",
       "      <td>1</td>\n",
       "      <td>NaN</td>\n",
       "    </tr>\n",
       "    <tr>\n",
       "      <td>1</td>\n",
       "      <td>\" \"</td>\n",
       "      <td>\"sku\"</td>\n",
       "      <td>\"sprkl\"</td>\n",
       "      <td>\"coke\"</td>\n",
       "      <td>\" \"</td>\n",
       "      <td>'750MLPLB Coke'</td>\n",
       "      <td>1</td>\n",
       "      <td>NaN</td>\n",
       "    </tr>\n",
       "    <tr>\n",
       "      <td>2</td>\n",
       "      <td>\" \"</td>\n",
       "      <td>\"sku\"</td>\n",
       "      <td>\"sprkl\"</td>\n",
       "      <td>\"coke\"</td>\n",
       "      <td>\" \"</td>\n",
       "      <td>'2.25LPLB Coke'</td>\n",
       "      <td>2</td>\n",
       "      <td>NaN</td>\n",
       "    </tr>\n",
       "    <tr>\n",
       "      <td>3</td>\n",
       "      <td>\" \"</td>\n",
       "      <td>\"sku\"</td>\n",
       "      <td>\"sprkl\"</td>\n",
       "      <td>\"coke\"</td>\n",
       "      <td>\" \"</td>\n",
       "      <td>'200MLGLB Coke'</td>\n",
       "      <td>1</td>\n",
       "      <td>NaN</td>\n",
       "    </tr>\n",
       "    <tr>\n",
       "      <td>0</td>\n",
       "      <td>\" \"</td>\n",
       "      <td>\"sku\"</td>\n",
       "      <td>\"sprkl\"</td>\n",
       "      <td>\"coke\"</td>\n",
       "      <td>\" \"</td>\n",
       "      <td>'1.25LPLB Coke'</td>\n",
       "      <td>1</td>\n",
       "      <td>NaN</td>\n",
       "    </tr>\n",
       "    <tr>\n",
       "      <td>1</td>\n",
       "      <td>\" \"</td>\n",
       "      <td>\"sku\"</td>\n",
       "      <td>\"sprkl\"</td>\n",
       "      <td>\"coke\"</td>\n",
       "      <td>\" \"</td>\n",
       "      <td>'750MLPLB Coke'</td>\n",
       "      <td>1</td>\n",
       "      <td>NaN</td>\n",
       "    </tr>\n",
       "    <tr>\n",
       "      <td>2</td>\n",
       "      <td>\" \"</td>\n",
       "      <td>\"sku\"</td>\n",
       "      <td>\"sprkl\"</td>\n",
       "      <td>\"coke\"</td>\n",
       "      <td>\" \"</td>\n",
       "      <td>'2.25LPLB Coke'</td>\n",
       "      <td>3</td>\n",
       "      <td>NaN</td>\n",
       "    </tr>\n",
       "    <tr>\n",
       "      <td>3</td>\n",
       "      <td>\" \"</td>\n",
       "      <td>\"sku\"</td>\n",
       "      <td>\"sprkl\"</td>\n",
       "      <td>\"coke\"</td>\n",
       "      <td>\" \"</td>\n",
       "      <td>'200MLGLB Coke'</td>\n",
       "      <td>1</td>\n",
       "      <td>NaN</td>\n",
       "    </tr>\n",
       "  </tbody>\n",
       "</table>\n",
       "</div>"
      ],
      "text/plain": [
       "  cname   type category   brand  ban             name  Counts Counting\n",
       "0   \" \"  \"sku\"  \"sprkl\"  \"coke\"  \" \"  '1.25LPLB Coke'       1      NaN\n",
       "1   \" \"  \"sku\"  \"sprkl\"  \"coke\"  \" \"  '750MLPLB Coke'       1      NaN\n",
       "2   \" \"  \"sku\"  \"sprkl\"  \"coke\"  \" \"  '2.25LPLB Coke'       2      NaN\n",
       "3   \" \"  \"sku\"  \"sprkl\"  \"coke\"  \" \"  '200MLGLB Coke'       1      NaN\n",
       "0   \" \"  \"sku\"  \"sprkl\"  \"coke\"  \" \"  '1.25LPLB Coke'       1      NaN\n",
       "1   \" \"  \"sku\"  \"sprkl\"  \"coke\"  \" \"  '750MLPLB Coke'       1      NaN\n",
       "2   \" \"  \"sku\"  \"sprkl\"  \"coke\"  \" \"  '2.25LPLB Coke'       3      NaN\n",
       "3   \" \"  \"sku\"  \"sprkl\"  \"coke\"  \" \"  '200MLGLB Coke'       1      NaN"
      ]
     },
     "execution_count": 36,
     "metadata": {},
     "output_type": "execute_result"
    }
   ],
   "source": [
    "final_dataframe"
   ]
  },
  {
   "cell_type": "code",
   "execution_count": 16,
   "metadata": {},
   "outputs": [],
   "source": [
    "df1.update(df2)"
   ]
  },
  {
   "cell_type": "code",
   "execution_count": 17,
   "metadata": {},
   "outputs": [
    {
     "data": {
      "text/html": [
       "<div>\n",
       "<style scoped>\n",
       "    .dataframe tbody tr th:only-of-type {\n",
       "        vertical-align: middle;\n",
       "    }\n",
       "\n",
       "    .dataframe tbody tr th {\n",
       "        vertical-align: top;\n",
       "    }\n",
       "\n",
       "    .dataframe thead th {\n",
       "        text-align: right;\n",
       "    }\n",
       "</style>\n",
       "<table border=\"1\" class=\"dataframe\">\n",
       "  <thead>\n",
       "    <tr style=\"text-align: right;\">\n",
       "      <th></th>\n",
       "      <th>cname</th>\n",
       "      <th>type</th>\n",
       "      <th>category</th>\n",
       "      <th>brand</th>\n",
       "      <th>ban</th>\n",
       "      <th>name</th>\n",
       "      <th>Counts</th>\n",
       "    </tr>\n",
       "  </thead>\n",
       "  <tbody>\n",
       "    <tr>\n",
       "      <td>0</td>\n",
       "      <td>\" \"</td>\n",
       "      <td>\"sku\"</td>\n",
       "      <td>\"sprkl\"</td>\n",
       "      <td>\"coke\"</td>\n",
       "      <td>\" \"</td>\n",
       "      <td>'1.25LPLB Coke'</td>\n",
       "      <td>1</td>\n",
       "    </tr>\n",
       "    <tr>\n",
       "      <td>1</td>\n",
       "      <td>\" \"</td>\n",
       "      <td>\"sku\"</td>\n",
       "      <td>\"sprkl\"</td>\n",
       "      <td>\"coke\"</td>\n",
       "      <td>\" \"</td>\n",
       "      <td>'750MLPLB Coke'</td>\n",
       "      <td>1</td>\n",
       "    </tr>\n",
       "    <tr>\n",
       "      <td>2</td>\n",
       "      <td>\" \"</td>\n",
       "      <td>\"sku\"</td>\n",
       "      <td>\"sprkl\"</td>\n",
       "      <td>\"coke\"</td>\n",
       "      <td>\" \"</td>\n",
       "      <td>'2.25LPLB Coke'</td>\n",
       "      <td>3</td>\n",
       "    </tr>\n",
       "    <tr>\n",
       "      <td>3</td>\n",
       "      <td>\" \"</td>\n",
       "      <td>\"sku\"</td>\n",
       "      <td>\"sprkl\"</td>\n",
       "      <td>\"coke\"</td>\n",
       "      <td>\" \"</td>\n",
       "      <td>'200MLGLB Coke'</td>\n",
       "      <td>1</td>\n",
       "    </tr>\n",
       "  </tbody>\n",
       "</table>\n",
       "</div>"
      ],
      "text/plain": [
       "  cname   type category   brand  ban             name  Counts\n",
       "0   \" \"  \"sku\"  \"sprkl\"  \"coke\"  \" \"  '1.25LPLB Coke'       1\n",
       "1   \" \"  \"sku\"  \"sprkl\"  \"coke\"  \" \"  '750MLPLB Coke'       1\n",
       "2   \" \"  \"sku\"  \"sprkl\"  \"coke\"  \" \"  '2.25LPLB Coke'       3\n",
       "3   \" \"  \"sku\"  \"sprkl\"  \"coke\"  \" \"  '200MLGLB Coke'       1"
      ]
     },
     "execution_count": 17,
     "metadata": {},
     "output_type": "execute_result"
    }
   ],
   "source": [
    "df1"
   ]
  },
  {
   "cell_type": "code",
   "execution_count": 14,
   "metadata": {},
   "outputs": [],
   "source": [
    "df = facing_proc(data)"
   ]
  },
  {
   "cell_type": "code",
   "execution_count": 19,
   "metadata": {},
   "outputs": [],
   "source": [
    "final_df = df.append(df1)"
   ]
  },
  {
   "cell_type": "code",
   "execution_count": 40,
   "metadata": {},
   "outputs": [
    {
     "data": {
      "text/html": [
       "<div>\n",
       "<style scoped>\n",
       "    .dataframe tbody tr th:only-of-type {\n",
       "        vertical-align: middle;\n",
       "    }\n",
       "\n",
       "    .dataframe tbody tr th {\n",
       "        vertical-align: top;\n",
       "    }\n",
       "\n",
       "    .dataframe thead th {\n",
       "        text-align: right;\n",
       "    }\n",
       "</style>\n",
       "<table border=\"1\" class=\"dataframe\">\n",
       "  <thead>\n",
       "    <tr style=\"text-align: right;\">\n",
       "      <th></th>\n",
       "      <th>cname</th>\n",
       "      <th>type</th>\n",
       "      <th>category</th>\n",
       "      <th>brand</th>\n",
       "      <th>ban</th>\n",
       "      <th>name</th>\n",
       "      <th>Counts</th>\n",
       "      <th>final_count</th>\n",
       "    </tr>\n",
       "  </thead>\n",
       "  <tbody>\n",
       "    <tr>\n",
       "      <td>0</td>\n",
       "      <td>\" \"</td>\n",
       "      <td>\"sku\"</td>\n",
       "      <td>\"sprkl\"</td>\n",
       "      <td>\"coke\"</td>\n",
       "      <td>\" \"</td>\n",
       "      <td>'1.25LPLB Coke'</td>\n",
       "      <td>1</td>\n",
       "      <td>2</td>\n",
       "    </tr>\n",
       "    <tr>\n",
       "      <td>1</td>\n",
       "      <td>\" \"</td>\n",
       "      <td>\"sku\"</td>\n",
       "      <td>\"sprkl\"</td>\n",
       "      <td>\"coke\"</td>\n",
       "      <td>\" \"</td>\n",
       "      <td>'750MLPLB Coke'</td>\n",
       "      <td>1</td>\n",
       "      <td>2</td>\n",
       "    </tr>\n",
       "    <tr>\n",
       "      <td>2</td>\n",
       "      <td>\" \"</td>\n",
       "      <td>\"sku\"</td>\n",
       "      <td>\"sprkl\"</td>\n",
       "      <td>\"coke\"</td>\n",
       "      <td>\" \"</td>\n",
       "      <td>'2.25LPLB Coke'</td>\n",
       "      <td>2</td>\n",
       "      <td>2</td>\n",
       "    </tr>\n",
       "    <tr>\n",
       "      <td>3</td>\n",
       "      <td>\" \"</td>\n",
       "      <td>\"sku\"</td>\n",
       "      <td>\"sprkl\"</td>\n",
       "      <td>\"coke\"</td>\n",
       "      <td>\" \"</td>\n",
       "      <td>'200MLGLB Coke'</td>\n",
       "      <td>1</td>\n",
       "      <td>2</td>\n",
       "    </tr>\n",
       "    <tr>\n",
       "      <td>5</td>\n",
       "      <td>\" \"</td>\n",
       "      <td>\"sku\"</td>\n",
       "      <td>\"sprkl\"</td>\n",
       "      <td>\"coke\"</td>\n",
       "      <td>\" \"</td>\n",
       "      <td>'250MLPLB Coke'</td>\n",
       "      <td>1</td>\n",
       "      <td>2</td>\n",
       "    </tr>\n",
       "    <tr>\n",
       "      <td>6</td>\n",
       "      <td>\" \"</td>\n",
       "      <td>\"sku\"</td>\n",
       "      <td>\"sprkl\"</td>\n",
       "      <td>\"coke\"</td>\n",
       "      <td>\" \"</td>\n",
       "      <td>'300MLALCN dt Coke'</td>\n",
       "      <td>1</td>\n",
       "      <td>2</td>\n",
       "    </tr>\n",
       "    <tr>\n",
       "      <td>7</td>\n",
       "      <td>\" \"</td>\n",
       "      <td>\"sku\"</td>\n",
       "      <td>\"sprkl\"</td>\n",
       "      <td>\"coke\"</td>\n",
       "      <td>\" \"</td>\n",
       "      <td>'200MLALCN Coke '</td>\n",
       "      <td>1</td>\n",
       "      <td>2</td>\n",
       "    </tr>\n",
       "    <tr>\n",
       "      <td>8</td>\n",
       "      <td>\" \"</td>\n",
       "      <td>\"sku\"</td>\n",
       "      <td>\"sprkl\"</td>\n",
       "      <td>\"coke\"</td>\n",
       "      <td>\" \"</td>\n",
       "      <td>'200MLALCN Coke'</td>\n",
       "      <td>1</td>\n",
       "      <td>2</td>\n",
       "    </tr>\n",
       "    <tr>\n",
       "      <td>9</td>\n",
       "      <td>\" \"</td>\n",
       "      <td>\"sku\"</td>\n",
       "      <td>\"sprkl\"</td>\n",
       "      <td>\"coke\"</td>\n",
       "      <td>\" \"</td>\n",
       "      <td>'750MLPLB Sprite'</td>\n",
       "      <td>1</td>\n",
       "      <td>2</td>\n",
       "    </tr>\n",
       "    <tr>\n",
       "      <td>10</td>\n",
       "      <td>\" \"</td>\n",
       "      <td>\"sku\"</td>\n",
       "      <td>\"sprkl\"</td>\n",
       "      <td>\"Sprite\"</td>\n",
       "      <td>\" \"</td>\n",
       "      <td>'2.25LPLB Sprite'</td>\n",
       "      <td>2</td>\n",
       "      <td>2</td>\n",
       "    </tr>\n",
       "    <tr>\n",
       "      <td>12</td>\n",
       "      <td>\" \"</td>\n",
       "      <td>\"sku\"</td>\n",
       "      <td>\"sprkl\"</td>\n",
       "      <td>\"Sprite\"</td>\n",
       "      <td>\" \"</td>\n",
       "      <td>'300MLALCN Sprite'</td>\n",
       "      <td>4</td>\n",
       "      <td>2</td>\n",
       "    </tr>\n",
       "    <tr>\n",
       "      <td>16</td>\n",
       "      <td>\" \"</td>\n",
       "      <td>\"sku\"</td>\n",
       "      <td>\"sprkl\"</td>\n",
       "      <td>\"Fanta\"</td>\n",
       "      <td>\" \"</td>\n",
       "      <td>'2.25LPLB Fanta Org'</td>\n",
       "      <td>1</td>\n",
       "      <td>2</td>\n",
       "    </tr>\n",
       "    <tr>\n",
       "      <td>0</td>\n",
       "      <td>\" \"</td>\n",
       "      <td>\"sku\"</td>\n",
       "      <td>\"sprkl\"</td>\n",
       "      <td>\"coke\"</td>\n",
       "      <td>\" \"</td>\n",
       "      <td>'1.25LPLB Coke'</td>\n",
       "      <td>1</td>\n",
       "      <td>2</td>\n",
       "    </tr>\n",
       "    <tr>\n",
       "      <td>1</td>\n",
       "      <td>\" \"</td>\n",
       "      <td>\"sku\"</td>\n",
       "      <td>\"sprkl\"</td>\n",
       "      <td>\"coke\"</td>\n",
       "      <td>\" \"</td>\n",
       "      <td>'750MLPLB Coke'</td>\n",
       "      <td>1</td>\n",
       "      <td>2</td>\n",
       "    </tr>\n",
       "    <tr>\n",
       "      <td>2</td>\n",
       "      <td>\" \"</td>\n",
       "      <td>\"sku\"</td>\n",
       "      <td>\"sprkl\"</td>\n",
       "      <td>\"coke\"</td>\n",
       "      <td>\" \"</td>\n",
       "      <td>'2.25LPLB Coke'</td>\n",
       "      <td>2</td>\n",
       "      <td>2</td>\n",
       "    </tr>\n",
       "    <tr>\n",
       "      <td>3</td>\n",
       "      <td>\" \"</td>\n",
       "      <td>\"sku\"</td>\n",
       "      <td>\"sprkl\"</td>\n",
       "      <td>\"coke\"</td>\n",
       "      <td>\" \"</td>\n",
       "      <td>'200MLGLB Coke'</td>\n",
       "      <td>1</td>\n",
       "      <td>2</td>\n",
       "    </tr>\n",
       "    <tr>\n",
       "      <td>5</td>\n",
       "      <td>\" \"</td>\n",
       "      <td>\"sku\"</td>\n",
       "      <td>\"sprkl\"</td>\n",
       "      <td>\"coke\"</td>\n",
       "      <td>\" \"</td>\n",
       "      <td>'250MLPLB Coke'</td>\n",
       "      <td>1</td>\n",
       "      <td>2</td>\n",
       "    </tr>\n",
       "    <tr>\n",
       "      <td>6</td>\n",
       "      <td>\" \"</td>\n",
       "      <td>\"sku\"</td>\n",
       "      <td>\"sprkl\"</td>\n",
       "      <td>\"coke\"</td>\n",
       "      <td>\" \"</td>\n",
       "      <td>'300MLALCN dt Coke'</td>\n",
       "      <td>1</td>\n",
       "      <td>2</td>\n",
       "    </tr>\n",
       "    <tr>\n",
       "      <td>7</td>\n",
       "      <td>\" \"</td>\n",
       "      <td>\"sku\"</td>\n",
       "      <td>\"sprkl\"</td>\n",
       "      <td>\"coke\"</td>\n",
       "      <td>\" \"</td>\n",
       "      <td>'200MLALCN Coke '</td>\n",
       "      <td>1</td>\n",
       "      <td>2</td>\n",
       "    </tr>\n",
       "    <tr>\n",
       "      <td>8</td>\n",
       "      <td>\" \"</td>\n",
       "      <td>\"sku\"</td>\n",
       "      <td>\"sprkl\"</td>\n",
       "      <td>\"coke\"</td>\n",
       "      <td>\" \"</td>\n",
       "      <td>'200MLALCN Coke'</td>\n",
       "      <td>1</td>\n",
       "      <td>2</td>\n",
       "    </tr>\n",
       "    <tr>\n",
       "      <td>9</td>\n",
       "      <td>\" \"</td>\n",
       "      <td>\"sku\"</td>\n",
       "      <td>\"sprkl\"</td>\n",
       "      <td>\"coke\"</td>\n",
       "      <td>\" \"</td>\n",
       "      <td>'750MLPLB Sprite'</td>\n",
       "      <td>1</td>\n",
       "      <td>2</td>\n",
       "    </tr>\n",
       "    <tr>\n",
       "      <td>10</td>\n",
       "      <td>\" \"</td>\n",
       "      <td>\"sku\"</td>\n",
       "      <td>\"sprkl\"</td>\n",
       "      <td>\"Sprite\"</td>\n",
       "      <td>\" \"</td>\n",
       "      <td>'2.25LPLB Sprite'</td>\n",
       "      <td>2</td>\n",
       "      <td>2</td>\n",
       "    </tr>\n",
       "    <tr>\n",
       "      <td>12</td>\n",
       "      <td>\" \"</td>\n",
       "      <td>\"sku\"</td>\n",
       "      <td>\"sprkl\"</td>\n",
       "      <td>\"Sprite\"</td>\n",
       "      <td>\" \"</td>\n",
       "      <td>'300MLALCN Sprite'</td>\n",
       "      <td>4</td>\n",
       "      <td>2</td>\n",
       "    </tr>\n",
       "    <tr>\n",
       "      <td>16</td>\n",
       "      <td>\" \"</td>\n",
       "      <td>\"sku\"</td>\n",
       "      <td>\"sprkl\"</td>\n",
       "      <td>\"Fanta\"</td>\n",
       "      <td>\" \"</td>\n",
       "      <td>'2.25LPLB Fanta Org'</td>\n",
       "      <td>1</td>\n",
       "      <td>2</td>\n",
       "    </tr>\n",
       "  </tbody>\n",
       "</table>\n",
       "</div>"
      ],
      "text/plain": [
       "   cname   type category     brand  ban                  name  Counts  \\\n",
       "0    \" \"  \"sku\"  \"sprkl\"    \"coke\"  \" \"       '1.25LPLB Coke'       1   \n",
       "1    \" \"  \"sku\"  \"sprkl\"    \"coke\"  \" \"       '750MLPLB Coke'       1   \n",
       "2    \" \"  \"sku\"  \"sprkl\"    \"coke\"  \" \"       '2.25LPLB Coke'       2   \n",
       "3    \" \"  \"sku\"  \"sprkl\"    \"coke\"  \" \"       '200MLGLB Coke'       1   \n",
       "5    \" \"  \"sku\"  \"sprkl\"    \"coke\"  \" \"       '250MLPLB Coke'       1   \n",
       "6    \" \"  \"sku\"  \"sprkl\"    \"coke\"  \" \"   '300MLALCN dt Coke'       1   \n",
       "7    \" \"  \"sku\"  \"sprkl\"    \"coke\"  \" \"     '200MLALCN Coke '       1   \n",
       "8    \" \"  \"sku\"  \"sprkl\"    \"coke\"  \" \"      '200MLALCN Coke'       1   \n",
       "9    \" \"  \"sku\"  \"sprkl\"    \"coke\"  \" \"     '750MLPLB Sprite'       1   \n",
       "10   \" \"  \"sku\"  \"sprkl\"  \"Sprite\"  \" \"     '2.25LPLB Sprite'       2   \n",
       "12   \" \"  \"sku\"  \"sprkl\"  \"Sprite\"  \" \"    '300MLALCN Sprite'       4   \n",
       "16   \" \"  \"sku\"  \"sprkl\"   \"Fanta\"  \" \"  '2.25LPLB Fanta Org'       1   \n",
       "0    \" \"  \"sku\"  \"sprkl\"    \"coke\"  \" \"       '1.25LPLB Coke'       1   \n",
       "1    \" \"  \"sku\"  \"sprkl\"    \"coke\"  \" \"       '750MLPLB Coke'       1   \n",
       "2    \" \"  \"sku\"  \"sprkl\"    \"coke\"  \" \"       '2.25LPLB Coke'       2   \n",
       "3    \" \"  \"sku\"  \"sprkl\"    \"coke\"  \" \"       '200MLGLB Coke'       1   \n",
       "5    \" \"  \"sku\"  \"sprkl\"    \"coke\"  \" \"       '250MLPLB Coke'       1   \n",
       "6    \" \"  \"sku\"  \"sprkl\"    \"coke\"  \" \"   '300MLALCN dt Coke'       1   \n",
       "7    \" \"  \"sku\"  \"sprkl\"    \"coke\"  \" \"     '200MLALCN Coke '       1   \n",
       "8    \" \"  \"sku\"  \"sprkl\"    \"coke\"  \" \"      '200MLALCN Coke'       1   \n",
       "9    \" \"  \"sku\"  \"sprkl\"    \"coke\"  \" \"     '750MLPLB Sprite'       1   \n",
       "10   \" \"  \"sku\"  \"sprkl\"  \"Sprite\"  \" \"     '2.25LPLB Sprite'       2   \n",
       "12   \" \"  \"sku\"  \"sprkl\"  \"Sprite\"  \" \"    '300MLALCN Sprite'       4   \n",
       "16   \" \"  \"sku\"  \"sprkl\"   \"Fanta\"  \" \"  '2.25LPLB Fanta Org'       1   \n",
       "\n",
       "    final_count  \n",
       "0             2  \n",
       "1             2  \n",
       "2             2  \n",
       "3             2  \n",
       "5             2  \n",
       "6             2  \n",
       "7             2  \n",
       "8             2  \n",
       "9             2  \n",
       "10            2  \n",
       "12            2  \n",
       "16            2  \n",
       "0             2  \n",
       "1             2  \n",
       "2             2  \n",
       "3             2  \n",
       "5             2  \n",
       "6             2  \n",
       "7             2  \n",
       "8             2  \n",
       "9             2  \n",
       "10            2  \n",
       "12            2  \n",
       "16            2  "
      ]
     },
     "execution_count": 40,
     "metadata": {},
     "output_type": "execute_result"
    }
   ],
   "source": [
    "final_df"
   ]
  },
  {
   "cell_type": "code",
   "execution_count": 46,
   "metadata": {},
   "outputs": [
    {
     "data": {
      "text/plain": [
       "0"
      ]
     },
     "execution_count": 46,
     "metadata": {},
     "output_type": "execute_result"
    }
   ],
   "source": [
    "final_df.query(\"name == 1\")['Counts'].sum()"
   ]
  },
  {
   "cell_type": "code",
   "execution_count": 44,
   "metadata": {},
   "outputs": [
    {
     "data": {
      "text/plain": [
       "0"
      ]
     },
     "execution_count": 44,
     "metadata": {},
     "output_type": "execute_result"
    }
   ],
   "source": [
    "final_df.loc[final_df['name'] == 1, 'Counts'].sum()"
   ]
  },
  {
   "cell_type": "code",
   "execution_count": 45,
   "metadata": {},
   "outputs": [
    {
     "data": {
      "text/plain": [
       "0"
      ]
     },
     "execution_count": 45,
     "metadata": {},
     "output_type": "execute_result"
    }
   ],
   "source": [
    "final_df_1"
   ]
  },
  {
   "cell_type": "code",
   "execution_count": 10,
   "metadata": {},
   "outputs": [],
   "source": [
    "#class handling_request():"
   ]
  },
  {
   "cell_type": "code",
   "execution_count": 11,
   "metadata": {},
   "outputs": [
    {
     "ename": "NameError",
     "evalue": "name 'pd' is not defined",
     "output_type": "error",
     "traceback": [
      "\u001b[1;31m---------------------------------------------------------------------------\u001b[0m",
      "\u001b[1;31mNameError\u001b[0m                                 Traceback (most recent call last)",
      "\u001b[1;32m<ipython-input-11-cb86ec0f978e>\u001b[0m in \u001b[0;36m<module>\u001b[1;34m\u001b[0m\n\u001b[1;32m----> 1\u001b[1;33m \u001b[0mdataum2\u001b[0m \u001b[1;33m=\u001b[0m\u001b[0mfacing_proc\u001b[0m\u001b[1;33m(\u001b[0m\u001b[0mdata2\u001b[0m\u001b[1;33m)\u001b[0m\u001b[1;33m\u001b[0m\u001b[1;33m\u001b[0m\u001b[0m\n\u001b[0m",
      "\u001b[1;32m<ipython-input-9-8f7308d19436>\u001b[0m in \u001b[0;36mfacing_proc\u001b[1;34m(data)\u001b[0m\n\u001b[0;32m      1\u001b[0m \u001b[1;32mdef\u001b[0m \u001b[0mfacing_proc\u001b[0m\u001b[1;33m(\u001b[0m\u001b[0mdata\u001b[0m\u001b[1;33m)\u001b[0m\u001b[1;33m:\u001b[0m\u001b[1;33m\u001b[0m\u001b[1;33m\u001b[0m\u001b[0m\n\u001b[1;32m----> 2\u001b[1;33m     \u001b[0mdf\u001b[0m \u001b[1;33m=\u001b[0m\u001b[0mpd\u001b[0m\u001b[1;33m.\u001b[0m\u001b[0mDataFrame\u001b[0m\u001b[1;33m(\u001b[0m\u001b[0mdata\u001b[0m\u001b[1;33m)\u001b[0m\u001b[1;33m\u001b[0m\u001b[1;33m\u001b[0m\u001b[0m\n\u001b[0m\u001b[0;32m      3\u001b[0m     \u001b[0mdf\u001b[0m\u001b[1;33m[\u001b[0m\u001b[1;34m'Counts'\u001b[0m\u001b[1;33m]\u001b[0m \u001b[1;33m=\u001b[0m \u001b[0mdf\u001b[0m\u001b[1;33m.\u001b[0m\u001b[0mgroupby\u001b[0m\u001b[1;33m(\u001b[0m\u001b[1;33m[\u001b[0m\u001b[1;34m'name'\u001b[0m\u001b[1;33m]\u001b[0m\u001b[1;33m)\u001b[0m\u001b[1;33m[\u001b[0m\u001b[1;34m'brand'\u001b[0m\u001b[1;33m]\u001b[0m\u001b[1;33m.\u001b[0m\u001b[0mtransform\u001b[0m\u001b[1;33m(\u001b[0m\u001b[1;34m'count'\u001b[0m\u001b[1;33m)\u001b[0m\u001b[1;33m\u001b[0m\u001b[1;33m\u001b[0m\u001b[0m\n\u001b[0;32m      4\u001b[0m     \u001b[0mdf\u001b[0m \u001b[1;33m=\u001b[0m \u001b[0mdf\u001b[0m\u001b[1;33m.\u001b[0m\u001b[0mdrop_duplicates\u001b[0m\u001b[1;33m(\u001b[0m\u001b[1;33m)\u001b[0m\u001b[1;33m\u001b[0m\u001b[1;33m\u001b[0m\u001b[0m\n\u001b[0;32m      5\u001b[0m     \u001b[0mdf\u001b[0m \u001b[1;33m=\u001b[0m \u001b[0mdf\u001b[0m\u001b[1;33m.\u001b[0m\u001b[0mdrop\u001b[0m\u001b[1;33m(\u001b[0m\u001b[1;33m[\u001b[0m\u001b[1;34m'count'\u001b[0m\u001b[1;33m]\u001b[0m\u001b[1;33m,\u001b[0m \u001b[0maxis\u001b[0m\u001b[1;33m=\u001b[0m\u001b[1;36m1\u001b[0m\u001b[1;33m)\u001b[0m\u001b[1;33m\u001b[0m\u001b[1;33m\u001b[0m\u001b[0m\n",
      "\u001b[1;31mNameError\u001b[0m: name 'pd' is not defined"
     ]
    }
   ],
   "source": [
    "dataum2 =facing_proc(data2)"
   ]
  },
  {
   "cell_type": "code",
   "execution_count": null,
   "metadata": {},
   "outputs": [],
   "source": [
    "final_dataum = dataum.append(dataum2)"
   ]
  },
  {
   "cell_type": "code",
   "execution_count": null,
   "metadata": {},
   "outputs": [],
   "source": [
    "final_dataum"
   ]
  },
  {
   "cell_type": "code",
   "execution_count": null,
   "metadata": {},
   "outputs": [],
   "source": [
    "final_dataum.groupby(['name', 'brand','type','category',\"ban\"], as_index=False).agg('sum')"
   ]
  },
  {
   "cell_type": "code",
   "execution_count": null,
   "metadata": {},
   "outputs": [],
   "source": [
    "final_dataum.groupby(['name'])['Counts'].transform('count')\n"
   ]
  },
  {
   "cell_type": "code",
   "execution_count": 57,
   "metadata": {},
   "outputs": [],
   "source": [
    "lst = [[1, 5], [1, 7], \n",
    "       [2, 3], [1, 3],[2,5]] \n",
    "data3 =pd.DataFrame(lst,columns =[\"a\",\"b\"])"
   ]
  },
  {
   "cell_type": "code",
   "execution_count": 58,
   "metadata": {},
   "outputs": [
    {
     "data": {
      "text/html": [
       "<div>\n",
       "<style scoped>\n",
       "    .dataframe tbody tr th:only-of-type {\n",
       "        vertical-align: middle;\n",
       "    }\n",
       "\n",
       "    .dataframe tbody tr th {\n",
       "        vertical-align: top;\n",
       "    }\n",
       "\n",
       "    .dataframe thead th {\n",
       "        text-align: right;\n",
       "    }\n",
       "</style>\n",
       "<table border=\"1\" class=\"dataframe\">\n",
       "  <thead>\n",
       "    <tr style=\"text-align: right;\">\n",
       "      <th></th>\n",
       "      <th>a</th>\n",
       "      <th>b</th>\n",
       "    </tr>\n",
       "  </thead>\n",
       "  <tbody>\n",
       "    <tr>\n",
       "      <td>0</td>\n",
       "      <td>1</td>\n",
       "      <td>5</td>\n",
       "    </tr>\n",
       "    <tr>\n",
       "      <td>1</td>\n",
       "      <td>1</td>\n",
       "      <td>7</td>\n",
       "    </tr>\n",
       "    <tr>\n",
       "      <td>2</td>\n",
       "      <td>2</td>\n",
       "      <td>3</td>\n",
       "    </tr>\n",
       "    <tr>\n",
       "      <td>3</td>\n",
       "      <td>1</td>\n",
       "      <td>3</td>\n",
       "    </tr>\n",
       "    <tr>\n",
       "      <td>4</td>\n",
       "      <td>2</td>\n",
       "      <td>5</td>\n",
       "    </tr>\n",
       "  </tbody>\n",
       "</table>\n",
       "</div>"
      ],
      "text/plain": [
       "   a  b\n",
       "0  1  5\n",
       "1  1  7\n",
       "2  2  3\n",
       "3  1  3\n",
       "4  2  5"
      ]
     },
     "execution_count": 58,
     "metadata": {},
     "output_type": "execute_result"
    }
   ],
   "source": [
    "data3"
   ]
  },
  {
   "cell_type": "code",
   "execution_count": 59,
   "metadata": {},
   "outputs": [
    {
     "data": {
      "text/plain": [
       "15"
      ]
     },
     "execution_count": 59,
     "metadata": {},
     "output_type": "execute_result"
    }
   ],
   "source": [
    "data3.loc[data3['a'] == 1, 'b'].sum()"
   ]
  },
  {
   "cell_type": "code",
   "execution_count": null,
   "metadata": {},
   "outputs": [],
   "source": []
  }
 ],
 "metadata": {
  "kernelspec": {
   "display_name": "Python 3",
   "language": "python",
   "name": "python3"
  },
  "language_info": {
   "codemirror_mode": {
    "name": "ipython",
    "version": 3
   },
   "file_extension": ".py",
   "mimetype": "text/x-python",
   "name": "python",
   "nbconvert_exporter": "python",
   "pygments_lexer": "ipython3",
   "version": "3.7.4"
  }
 },
 "nbformat": 4,
 "nbformat_minor": 2
}
